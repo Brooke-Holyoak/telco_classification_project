{
 "cells": [
  {
   "cell_type": "code",
   "execution_count": 103,
   "id": "b6efa794-072b-4550-9ff4-7f615899ab61",
   "metadata": {},
   "outputs": [],
   "source": [
    "#import necessary libraries and python scripts\n",
    "import numpy as np\n",
    "import pandas as pd\n",
    "\n",
    "from pydataset import data\n",
    "\n",
    "from sklearn.model_selection import train_test_split\n",
    "from sklearn.tree import DecisionTreeClassifier, export_graphviz, plot_tree, export_text\n",
    "from sklearn.metrics import classification_report, confusion_matrix, accuracy_score\n",
    "from sklearn.ensemble import RandomForestClassifier\n",
    "from sklearn.neighbors import KNeighborsClassifier\n",
    "from sklearn.linear_model import LogisticRegression\n",
    "\n",
    "\n",
    "# ignore warnings\n",
    "import warnings\n",
    "warnings.filterwarnings(\"ignore\")\n",
    "\n",
    "import matplotlib.pyplot as plt\n",
    "%matplotlib inline\n",
    "import seaborn as sns\n",
    "from acquire import get_telco_data"
   ]
  },
  {
   "cell_type": "code",
   "execution_count": 104,
   "id": "ba5792df-d2fa-4107-bc97-5481d7f2557b",
   "metadata": {},
   "outputs": [
    {
     "data": {
      "text/html": [
       "<div>\n",
       "<style scoped>\n",
       "    .dataframe tbody tr th:only-of-type {\n",
       "        vertical-align: middle;\n",
       "    }\n",
       "\n",
       "    .dataframe tbody tr th {\n",
       "        vertical-align: top;\n",
       "    }\n",
       "\n",
       "    .dataframe thead th {\n",
       "        text-align: right;\n",
       "    }\n",
       "</style>\n",
       "<table border=\"1\" class=\"dataframe\">\n",
       "  <thead>\n",
       "    <tr style=\"text-align: right;\">\n",
       "      <th></th>\n",
       "      <th>payment_type_id</th>\n",
       "      <th>internet_service_type_id</th>\n",
       "      <th>contract_type_id</th>\n",
       "      <th>customer_id</th>\n",
       "      <th>gender</th>\n",
       "      <th>senior_citizen</th>\n",
       "      <th>partner</th>\n",
       "      <th>dependents</th>\n",
       "      <th>tenure</th>\n",
       "      <th>phone_service</th>\n",
       "      <th>...</th>\n",
       "      <th>tech_support</th>\n",
       "      <th>streaming_tv</th>\n",
       "      <th>streaming_movies</th>\n",
       "      <th>paperless_billing</th>\n",
       "      <th>monthly_charges</th>\n",
       "      <th>total_charges</th>\n",
       "      <th>churn</th>\n",
       "      <th>contract_type</th>\n",
       "      <th>internet_service_type</th>\n",
       "      <th>payment_type</th>\n",
       "    </tr>\n",
       "  </thead>\n",
       "  <tbody>\n",
       "    <tr>\n",
       "      <th>0</th>\n",
       "      <td>2</td>\n",
       "      <td>1</td>\n",
       "      <td>3</td>\n",
       "      <td>0016-QLJIS</td>\n",
       "      <td>Female</td>\n",
       "      <td>0</td>\n",
       "      <td>Yes</td>\n",
       "      <td>Yes</td>\n",
       "      <td>65</td>\n",
       "      <td>Yes</td>\n",
       "      <td>...</td>\n",
       "      <td>Yes</td>\n",
       "      <td>Yes</td>\n",
       "      <td>Yes</td>\n",
       "      <td>Yes</td>\n",
       "      <td>90.45</td>\n",
       "      <td>5957.9</td>\n",
       "      <td>No</td>\n",
       "      <td>Two year</td>\n",
       "      <td>DSL</td>\n",
       "      <td>Mailed check</td>\n",
       "    </tr>\n",
       "    <tr>\n",
       "      <th>1</th>\n",
       "      <td>4</td>\n",
       "      <td>1</td>\n",
       "      <td>3</td>\n",
       "      <td>0017-DINOC</td>\n",
       "      <td>Male</td>\n",
       "      <td>0</td>\n",
       "      <td>No</td>\n",
       "      <td>No</td>\n",
       "      <td>54</td>\n",
       "      <td>No</td>\n",
       "      <td>...</td>\n",
       "      <td>Yes</td>\n",
       "      <td>Yes</td>\n",
       "      <td>No</td>\n",
       "      <td>No</td>\n",
       "      <td>45.20</td>\n",
       "      <td>2460.55</td>\n",
       "      <td>No</td>\n",
       "      <td>Two year</td>\n",
       "      <td>DSL</td>\n",
       "      <td>Credit card (automatic)</td>\n",
       "    </tr>\n",
       "    <tr>\n",
       "      <th>2</th>\n",
       "      <td>3</td>\n",
       "      <td>1</td>\n",
       "      <td>3</td>\n",
       "      <td>0019-GFNTW</td>\n",
       "      <td>Female</td>\n",
       "      <td>0</td>\n",
       "      <td>No</td>\n",
       "      <td>No</td>\n",
       "      <td>56</td>\n",
       "      <td>No</td>\n",
       "      <td>...</td>\n",
       "      <td>Yes</td>\n",
       "      <td>No</td>\n",
       "      <td>No</td>\n",
       "      <td>No</td>\n",
       "      <td>45.05</td>\n",
       "      <td>2560.1</td>\n",
       "      <td>No</td>\n",
       "      <td>Two year</td>\n",
       "      <td>DSL</td>\n",
       "      <td>Bank transfer (automatic)</td>\n",
       "    </tr>\n",
       "    <tr>\n",
       "      <th>3</th>\n",
       "      <td>4</td>\n",
       "      <td>1</td>\n",
       "      <td>3</td>\n",
       "      <td>0056-EPFBG</td>\n",
       "      <td>Male</td>\n",
       "      <td>0</td>\n",
       "      <td>Yes</td>\n",
       "      <td>Yes</td>\n",
       "      <td>20</td>\n",
       "      <td>No</td>\n",
       "      <td>...</td>\n",
       "      <td>Yes</td>\n",
       "      <td>No</td>\n",
       "      <td>No</td>\n",
       "      <td>Yes</td>\n",
       "      <td>39.40</td>\n",
       "      <td>825.4</td>\n",
       "      <td>No</td>\n",
       "      <td>Two year</td>\n",
       "      <td>DSL</td>\n",
       "      <td>Credit card (automatic)</td>\n",
       "    </tr>\n",
       "    <tr>\n",
       "      <th>4</th>\n",
       "      <td>3</td>\n",
       "      <td>1</td>\n",
       "      <td>3</td>\n",
       "      <td>0078-XZMHT</td>\n",
       "      <td>Male</td>\n",
       "      <td>0</td>\n",
       "      <td>Yes</td>\n",
       "      <td>No</td>\n",
       "      <td>72</td>\n",
       "      <td>Yes</td>\n",
       "      <td>...</td>\n",
       "      <td>Yes</td>\n",
       "      <td>Yes</td>\n",
       "      <td>Yes</td>\n",
       "      <td>Yes</td>\n",
       "      <td>85.15</td>\n",
       "      <td>6316.2</td>\n",
       "      <td>No</td>\n",
       "      <td>Two year</td>\n",
       "      <td>DSL</td>\n",
       "      <td>Bank transfer (automatic)</td>\n",
       "    </tr>\n",
       "  </tbody>\n",
       "</table>\n",
       "<p>5 rows × 24 columns</p>\n",
       "</div>"
      ],
      "text/plain": [
       "   payment_type_id  internet_service_type_id  contract_type_id customer_id  \\\n",
       "0                2                         1                 3  0016-QLJIS   \n",
       "1                4                         1                 3  0017-DINOC   \n",
       "2                3                         1                 3  0019-GFNTW   \n",
       "3                4                         1                 3  0056-EPFBG   \n",
       "4                3                         1                 3  0078-XZMHT   \n",
       "\n",
       "   gender  senior_citizen partner dependents  tenure phone_service  ...  \\\n",
       "0  Female               0     Yes        Yes      65           Yes  ...   \n",
       "1    Male               0      No         No      54            No  ...   \n",
       "2  Female               0      No         No      56            No  ...   \n",
       "3    Male               0     Yes        Yes      20            No  ...   \n",
       "4    Male               0     Yes         No      72           Yes  ...   \n",
       "\n",
       "  tech_support streaming_tv streaming_movies paperless_billing  \\\n",
       "0          Yes          Yes              Yes               Yes   \n",
       "1          Yes          Yes               No                No   \n",
       "2          Yes           No               No                No   \n",
       "3          Yes           No               No               Yes   \n",
       "4          Yes          Yes              Yes               Yes   \n",
       "\n",
       "  monthly_charges total_charges churn contract_type  internet_service_type  \\\n",
       "0           90.45        5957.9    No      Two year                    DSL   \n",
       "1           45.20       2460.55    No      Two year                    DSL   \n",
       "2           45.05        2560.1    No      Two year                    DSL   \n",
       "3           39.40         825.4    No      Two year                    DSL   \n",
       "4           85.15        6316.2    No      Two year                    DSL   \n",
       "\n",
       "                payment_type  \n",
       "0               Mailed check  \n",
       "1    Credit card (automatic)  \n",
       "2  Bank transfer (automatic)  \n",
       "3    Credit card (automatic)  \n",
       "4  Bank transfer (automatic)  \n",
       "\n",
       "[5 rows x 24 columns]"
      ]
     },
     "execution_count": 104,
     "metadata": {},
     "output_type": "execute_result"
    }
   ],
   "source": [
    "# read telco data into a DataFrame\n",
    "df = get_telco_data()\n",
    "df.head()"
   ]
  },
  {
   "cell_type": "code",
   "execution_count": 105,
   "id": "45c72fa1-bd46-42e3-8b5e-e111d63c0e78",
   "metadata": {},
   "outputs": [
    {
     "name": "stdout",
     "output_type": "stream",
     "text": [
      "<class 'pandas.core.frame.DataFrame'>\n",
      "Int64Index: 7043 entries, 0 to 7042\n",
      "Data columns (total 24 columns):\n",
      " #   Column                    Non-Null Count  Dtype  \n",
      "---  ------                    --------------  -----  \n",
      " 0   payment_type_id           7043 non-null   int64  \n",
      " 1   internet_service_type_id  7043 non-null   int64  \n",
      " 2   contract_type_id          7043 non-null   int64  \n",
      " 3   customer_id               7043 non-null   object \n",
      " 4   gender                    7043 non-null   object \n",
      " 5   senior_citizen            7043 non-null   int64  \n",
      " 6   partner                   7043 non-null   object \n",
      " 7   dependents                7043 non-null   object \n",
      " 8   tenure                    7043 non-null   int64  \n",
      " 9   phone_service             7043 non-null   object \n",
      " 10  multiple_lines            7043 non-null   object \n",
      " 11  online_security           7043 non-null   object \n",
      " 12  online_backup             7043 non-null   object \n",
      " 13  device_protection         7043 non-null   object \n",
      " 14  tech_support              7043 non-null   object \n",
      " 15  streaming_tv              7043 non-null   object \n",
      " 16  streaming_movies          7043 non-null   object \n",
      " 17  paperless_billing         7043 non-null   object \n",
      " 18  monthly_charges           7043 non-null   float64\n",
      " 19  total_charges             7043 non-null   object \n",
      " 20  churn                     7043 non-null   object \n",
      " 21  contract_type             7043 non-null   object \n",
      " 22  internet_service_type     7043 non-null   object \n",
      " 23  payment_type              7043 non-null   object \n",
      "dtypes: float64(1), int64(5), object(18)\n",
      "memory usage: 1.3+ MB\n"
     ]
    }
   ],
   "source": [
    "df.info()"
   ]
  },
  {
   "cell_type": "code",
   "execution_count": 106,
   "id": "933d0da9-0cad-4f26-ab6b-9dadfd4db7b1",
   "metadata": {},
   "outputs": [],
   "source": [
    "#Imagine having an X_train as well as an X_train_scaled_encoded\n",
    "\n",
    "#handle in prep before the split:\n",
    "# data type preparation (ex. converting strings to numbers, etc...)\n",
    "# dropping rows/columns (if too many nulls)\n",
    "# handle outliers (decide if you're keeping/removing them)\n",
    "# adding new columns\n",
    "# dropping any columns"
   ]
  },
  {
   "cell_type": "code",
   "execution_count": 107,
   "id": "8bbd9ea4-b37f-47a4-ba0f-2de445d4bc12",
   "metadata": {},
   "outputs": [
    {
     "data": {
      "text/plain": [
       "payment_type_id  internet_service_type_id  contract_type_id  customer_id  gender  senior_citizen  partner  dependents  tenure  phone_service  multiple_lines  online_security  online_backup  device_protection  tech_support  streaming_tv  streaming_movies  paperless_billing  monthly_charges  total_charges  churn  contract_type  internet_service_type  payment_type\n",
       "False            False                     False             False        False   False           False    False       False   False          False           False            False          False              False         False         False             False              False            False          False  False          False                  False           7043\n",
       "dtype: int64"
      ]
     },
     "execution_count": 107,
     "metadata": {},
     "output_type": "execute_result"
    }
   ],
   "source": [
    "df.isnull().value_counts()"
   ]
  },
  {
   "cell_type": "code",
   "execution_count": 108,
   "id": "f85fbef5-2d37-425a-889e-ac1f57725189",
   "metadata": {},
   "outputs": [
    {
     "data": {
      "text/html": [
       "<div>\n",
       "<style scoped>\n",
       "    .dataframe tbody tr th:only-of-type {\n",
       "        vertical-align: middle;\n",
       "    }\n",
       "\n",
       "    .dataframe tbody tr th {\n",
       "        vertical-align: top;\n",
       "    }\n",
       "\n",
       "    .dataframe thead th {\n",
       "        text-align: right;\n",
       "    }\n",
       "</style>\n",
       "<table border=\"1\" class=\"dataframe\">\n",
       "  <thead>\n",
       "    <tr style=\"text-align: right;\">\n",
       "      <th></th>\n",
       "      <th>payment_type_id</th>\n",
       "      <th>internet_service_type_id</th>\n",
       "      <th>contract_type_id</th>\n",
       "      <th>customer_id</th>\n",
       "      <th>gender</th>\n",
       "      <th>senior_citizen</th>\n",
       "      <th>partner</th>\n",
       "      <th>dependents</th>\n",
       "      <th>tenure</th>\n",
       "      <th>phone_service</th>\n",
       "      <th>...</th>\n",
       "      <th>tech_support</th>\n",
       "      <th>streaming_tv</th>\n",
       "      <th>streaming_movies</th>\n",
       "      <th>paperless_billing</th>\n",
       "      <th>monthly_charges</th>\n",
       "      <th>total_charges</th>\n",
       "      <th>churn</th>\n",
       "      <th>contract_type</th>\n",
       "      <th>internet_service_type</th>\n",
       "      <th>payment_type</th>\n",
       "    </tr>\n",
       "  </thead>\n",
       "  <tbody>\n",
       "    <tr>\n",
       "      <th>85</th>\n",
       "      <td>4</td>\n",
       "      <td>1</td>\n",
       "      <td>3</td>\n",
       "      <td>1371-DWPAZ</td>\n",
       "      <td>Female</td>\n",
       "      <td>0</td>\n",
       "      <td>Yes</td>\n",
       "      <td>Yes</td>\n",
       "      <td>0</td>\n",
       "      <td>No</td>\n",
       "      <td>...</td>\n",
       "      <td>Yes</td>\n",
       "      <td>Yes</td>\n",
       "      <td>No</td>\n",
       "      <td>No</td>\n",
       "      <td>56.05</td>\n",
       "      <td></td>\n",
       "      <td>No</td>\n",
       "      <td>Two year</td>\n",
       "      <td>DSL</td>\n",
       "      <td>Credit card (automatic)</td>\n",
       "    </tr>\n",
       "    <tr>\n",
       "      <th>156</th>\n",
       "      <td>3</td>\n",
       "      <td>1</td>\n",
       "      <td>3</td>\n",
       "      <td>2775-SEFEE</td>\n",
       "      <td>Male</td>\n",
       "      <td>0</td>\n",
       "      <td>No</td>\n",
       "      <td>Yes</td>\n",
       "      <td>0</td>\n",
       "      <td>Yes</td>\n",
       "      <td>...</td>\n",
       "      <td>Yes</td>\n",
       "      <td>No</td>\n",
       "      <td>No</td>\n",
       "      <td>Yes</td>\n",
       "      <td>61.90</td>\n",
       "      <td></td>\n",
       "      <td>No</td>\n",
       "      <td>Two year</td>\n",
       "      <td>DSL</td>\n",
       "      <td>Bank transfer (automatic)</td>\n",
       "    </tr>\n",
       "    <tr>\n",
       "      <th>236</th>\n",
       "      <td>2</td>\n",
       "      <td>1</td>\n",
       "      <td>3</td>\n",
       "      <td>4075-WKNIU</td>\n",
       "      <td>Female</td>\n",
       "      <td>0</td>\n",
       "      <td>Yes</td>\n",
       "      <td>Yes</td>\n",
       "      <td>0</td>\n",
       "      <td>Yes</td>\n",
       "      <td>...</td>\n",
       "      <td>Yes</td>\n",
       "      <td>Yes</td>\n",
       "      <td>No</td>\n",
       "      <td>No</td>\n",
       "      <td>73.35</td>\n",
       "      <td></td>\n",
       "      <td>No</td>\n",
       "      <td>Two year</td>\n",
       "      <td>DSL</td>\n",
       "      <td>Mailed check</td>\n",
       "    </tr>\n",
       "    <tr>\n",
       "      <th>255</th>\n",
       "      <td>3</td>\n",
       "      <td>1</td>\n",
       "      <td>3</td>\n",
       "      <td>4472-LVYGI</td>\n",
       "      <td>Female</td>\n",
       "      <td>0</td>\n",
       "      <td>Yes</td>\n",
       "      <td>Yes</td>\n",
       "      <td>0</td>\n",
       "      <td>No</td>\n",
       "      <td>...</td>\n",
       "      <td>Yes</td>\n",
       "      <td>Yes</td>\n",
       "      <td>No</td>\n",
       "      <td>Yes</td>\n",
       "      <td>52.55</td>\n",
       "      <td></td>\n",
       "      <td>No</td>\n",
       "      <td>Two year</td>\n",
       "      <td>DSL</td>\n",
       "      <td>Bank transfer (automatic)</td>\n",
       "    </tr>\n",
       "    <tr>\n",
       "      <th>339</th>\n",
       "      <td>2</td>\n",
       "      <td>1</td>\n",
       "      <td>3</td>\n",
       "      <td>5709-LVOEQ</td>\n",
       "      <td>Female</td>\n",
       "      <td>0</td>\n",
       "      <td>Yes</td>\n",
       "      <td>Yes</td>\n",
       "      <td>0</td>\n",
       "      <td>Yes</td>\n",
       "      <td>...</td>\n",
       "      <td>No</td>\n",
       "      <td>Yes</td>\n",
       "      <td>Yes</td>\n",
       "      <td>No</td>\n",
       "      <td>80.85</td>\n",
       "      <td></td>\n",
       "      <td>No</td>\n",
       "      <td>Two year</td>\n",
       "      <td>DSL</td>\n",
       "      <td>Mailed check</td>\n",
       "    </tr>\n",
       "    <tr>\n",
       "      <th>5681</th>\n",
       "      <td>2</td>\n",
       "      <td>3</td>\n",
       "      <td>3</td>\n",
       "      <td>2520-SGTTA</td>\n",
       "      <td>Female</td>\n",
       "      <td>0</td>\n",
       "      <td>Yes</td>\n",
       "      <td>Yes</td>\n",
       "      <td>0</td>\n",
       "      <td>Yes</td>\n",
       "      <td>...</td>\n",
       "      <td>No internet service</td>\n",
       "      <td>No internet service</td>\n",
       "      <td>No internet service</td>\n",
       "      <td>No</td>\n",
       "      <td>20.00</td>\n",
       "      <td></td>\n",
       "      <td>No</td>\n",
       "      <td>Two year</td>\n",
       "      <td>None</td>\n",
       "      <td>Mailed check</td>\n",
       "    </tr>\n",
       "    <tr>\n",
       "      <th>5717</th>\n",
       "      <td>2</td>\n",
       "      <td>3</td>\n",
       "      <td>3</td>\n",
       "      <td>3115-CZMZD</td>\n",
       "      <td>Male</td>\n",
       "      <td>0</td>\n",
       "      <td>No</td>\n",
       "      <td>Yes</td>\n",
       "      <td>0</td>\n",
       "      <td>Yes</td>\n",
       "      <td>...</td>\n",
       "      <td>No internet service</td>\n",
       "      <td>No internet service</td>\n",
       "      <td>No internet service</td>\n",
       "      <td>No</td>\n",
       "      <td>20.25</td>\n",
       "      <td></td>\n",
       "      <td>No</td>\n",
       "      <td>Two year</td>\n",
       "      <td>None</td>\n",
       "      <td>Mailed check</td>\n",
       "    </tr>\n",
       "    <tr>\n",
       "      <th>5727</th>\n",
       "      <td>2</td>\n",
       "      <td>3</td>\n",
       "      <td>3</td>\n",
       "      <td>3213-VVOLG</td>\n",
       "      <td>Male</td>\n",
       "      <td>0</td>\n",
       "      <td>Yes</td>\n",
       "      <td>Yes</td>\n",
       "      <td>0</td>\n",
       "      <td>Yes</td>\n",
       "      <td>...</td>\n",
       "      <td>No internet service</td>\n",
       "      <td>No internet service</td>\n",
       "      <td>No internet service</td>\n",
       "      <td>No</td>\n",
       "      <td>25.35</td>\n",
       "      <td></td>\n",
       "      <td>No</td>\n",
       "      <td>Two year</td>\n",
       "      <td>None</td>\n",
       "      <td>Mailed check</td>\n",
       "    </tr>\n",
       "    <tr>\n",
       "      <th>5798</th>\n",
       "      <td>2</td>\n",
       "      <td>3</td>\n",
       "      <td>3</td>\n",
       "      <td>4367-NUYAO</td>\n",
       "      <td>Male</td>\n",
       "      <td>0</td>\n",
       "      <td>Yes</td>\n",
       "      <td>Yes</td>\n",
       "      <td>0</td>\n",
       "      <td>Yes</td>\n",
       "      <td>...</td>\n",
       "      <td>No internet service</td>\n",
       "      <td>No internet service</td>\n",
       "      <td>No internet service</td>\n",
       "      <td>No</td>\n",
       "      <td>25.75</td>\n",
       "      <td></td>\n",
       "      <td>No</td>\n",
       "      <td>Two year</td>\n",
       "      <td>None</td>\n",
       "      <td>Mailed check</td>\n",
       "    </tr>\n",
       "    <tr>\n",
       "      <th>6007</th>\n",
       "      <td>2</td>\n",
       "      <td>3</td>\n",
       "      <td>3</td>\n",
       "      <td>7644-OMVMY</td>\n",
       "      <td>Male</td>\n",
       "      <td>0</td>\n",
       "      <td>Yes</td>\n",
       "      <td>Yes</td>\n",
       "      <td>0</td>\n",
       "      <td>Yes</td>\n",
       "      <td>...</td>\n",
       "      <td>No internet service</td>\n",
       "      <td>No internet service</td>\n",
       "      <td>No internet service</td>\n",
       "      <td>No</td>\n",
       "      <td>19.85</td>\n",
       "      <td></td>\n",
       "      <td>No</td>\n",
       "      <td>Two year</td>\n",
       "      <td>None</td>\n",
       "      <td>Mailed check</td>\n",
       "    </tr>\n",
       "    <tr>\n",
       "      <th>6257</th>\n",
       "      <td>2</td>\n",
       "      <td>3</td>\n",
       "      <td>2</td>\n",
       "      <td>2923-ARZLG</td>\n",
       "      <td>Male</td>\n",
       "      <td>0</td>\n",
       "      <td>Yes</td>\n",
       "      <td>Yes</td>\n",
       "      <td>0</td>\n",
       "      <td>Yes</td>\n",
       "      <td>...</td>\n",
       "      <td>No internet service</td>\n",
       "      <td>No internet service</td>\n",
       "      <td>No internet service</td>\n",
       "      <td>Yes</td>\n",
       "      <td>19.70</td>\n",
       "      <td></td>\n",
       "      <td>No</td>\n",
       "      <td>One year</td>\n",
       "      <td>None</td>\n",
       "      <td>Mailed check</td>\n",
       "    </tr>\n",
       "  </tbody>\n",
       "</table>\n",
       "<p>11 rows × 24 columns</p>\n",
       "</div>"
      ],
      "text/plain": [
       "      payment_type_id  internet_service_type_id  contract_type_id customer_id  \\\n",
       "85                  4                         1                 3  1371-DWPAZ   \n",
       "156                 3                         1                 3  2775-SEFEE   \n",
       "236                 2                         1                 3  4075-WKNIU   \n",
       "255                 3                         1                 3  4472-LVYGI   \n",
       "339                 2                         1                 3  5709-LVOEQ   \n",
       "5681                2                         3                 3  2520-SGTTA   \n",
       "5717                2                         3                 3  3115-CZMZD   \n",
       "5727                2                         3                 3  3213-VVOLG   \n",
       "5798                2                         3                 3  4367-NUYAO   \n",
       "6007                2                         3                 3  7644-OMVMY   \n",
       "6257                2                         3                 2  2923-ARZLG   \n",
       "\n",
       "      gender  senior_citizen partner dependents  tenure phone_service  ...  \\\n",
       "85    Female               0     Yes        Yes       0            No  ...   \n",
       "156     Male               0      No        Yes       0           Yes  ...   \n",
       "236   Female               0     Yes        Yes       0           Yes  ...   \n",
       "255   Female               0     Yes        Yes       0            No  ...   \n",
       "339   Female               0     Yes        Yes       0           Yes  ...   \n",
       "5681  Female               0     Yes        Yes       0           Yes  ...   \n",
       "5717    Male               0      No        Yes       0           Yes  ...   \n",
       "5727    Male               0     Yes        Yes       0           Yes  ...   \n",
       "5798    Male               0     Yes        Yes       0           Yes  ...   \n",
       "6007    Male               0     Yes        Yes       0           Yes  ...   \n",
       "6257    Male               0     Yes        Yes       0           Yes  ...   \n",
       "\n",
       "             tech_support         streaming_tv     streaming_movies  \\\n",
       "85                    Yes                  Yes                   No   \n",
       "156                   Yes                   No                   No   \n",
       "236                   Yes                  Yes                   No   \n",
       "255                   Yes                  Yes                   No   \n",
       "339                    No                  Yes                  Yes   \n",
       "5681  No internet service  No internet service  No internet service   \n",
       "5717  No internet service  No internet service  No internet service   \n",
       "5727  No internet service  No internet service  No internet service   \n",
       "5798  No internet service  No internet service  No internet service   \n",
       "6007  No internet service  No internet service  No internet service   \n",
       "6257  No internet service  No internet service  No internet service   \n",
       "\n",
       "     paperless_billing monthly_charges total_charges churn contract_type  \\\n",
       "85                  No           56.05                  No      Two year   \n",
       "156                Yes           61.90                  No      Two year   \n",
       "236                 No           73.35                  No      Two year   \n",
       "255                Yes           52.55                  No      Two year   \n",
       "339                 No           80.85                  No      Two year   \n",
       "5681                No           20.00                  No      Two year   \n",
       "5717                No           20.25                  No      Two year   \n",
       "5727                No           25.35                  No      Two year   \n",
       "5798                No           25.75                  No      Two year   \n",
       "6007                No           19.85                  No      Two year   \n",
       "6257               Yes           19.70                  No      One year   \n",
       "\n",
       "      internet_service_type               payment_type  \n",
       "85                      DSL    Credit card (automatic)  \n",
       "156                     DSL  Bank transfer (automatic)  \n",
       "236                     DSL               Mailed check  \n",
       "255                     DSL  Bank transfer (automatic)  \n",
       "339                     DSL               Mailed check  \n",
       "5681                   None               Mailed check  \n",
       "5717                   None               Mailed check  \n",
       "5727                   None               Mailed check  \n",
       "5798                   None               Mailed check  \n",
       "6007                   None               Mailed check  \n",
       "6257                   None               Mailed check  \n",
       "\n",
       "[11 rows x 24 columns]"
      ]
     },
     "execution_count": 108,
     "metadata": {},
     "output_type": "execute_result"
    }
   ],
   "source": [
    "#There are no null values to handle in any columns. \n",
    "\n",
    "#I want to drop customers with a tenure less than one month. Since they have not yet had the chance to stay or leave, thier info would not give our model relevant data.\n",
    "\n",
    "df[df.tenure == 0]"
   ]
  },
  {
   "cell_type": "code",
   "execution_count": 109,
   "id": "eb87d634-0d13-45f0-8f8b-f27ebb2efa5a",
   "metadata": {},
   "outputs": [
    {
     "data": {
      "text/plain": [
       "Index([], dtype='object')"
      ]
     },
     "execution_count": 109,
     "metadata": {},
     "output_type": "execute_result"
    }
   ],
   "source": [
    "df.loc[:, df.isnull().any()].columns"
   ]
  },
  {
   "cell_type": "code",
   "execution_count": 110,
   "id": "ba50ed69-042a-4ae1-a2ac-531b606f0191",
   "metadata": {},
   "outputs": [],
   "source": [
    "#In order to prep the data for modeling:\n",
    "#I will drop rows shown in the above table result (customers with less than one month of tenure).\n",
    "#I will drop unnecessary columns: payment_type_id, internet_service_type_id, contract_type_id, and customer_id\n",
    "#I will convert columns with string values into multiple columns using the values as new column labels, and values as booleans.\n",
    "#Finally, I will store the functions to do the above in a prepare.py file for streamlined access in my final notebook.\n"
   ]
  },
  {
   "cell_type": "code",
   "execution_count": 111,
   "id": "f9c74242-751f-4f4b-9731-6058d1d663b0",
   "metadata": {},
   "outputs": [
    {
     "data": {
      "text/plain": [
       "(7032, 24)"
      ]
     },
     "execution_count": 111,
     "metadata": {},
     "output_type": "execute_result"
    }
   ],
   "source": [
    "#dropping rows shown in table above, or in other words excluding the rows where tenure == 0\n",
    "\n",
    "df = df[df.tenure != 0]\n",
    "df.shape\n"
   ]
  },
  {
   "cell_type": "code",
   "execution_count": 112,
   "id": "eca0d9f5-03e8-4ffb-86c5-7937f3347e67",
   "metadata": {},
   "outputs": [
    {
     "data": {
      "text/html": [
       "<div>\n",
       "<style scoped>\n",
       "    .dataframe tbody tr th:only-of-type {\n",
       "        vertical-align: middle;\n",
       "    }\n",
       "\n",
       "    .dataframe tbody tr th {\n",
       "        vertical-align: top;\n",
       "    }\n",
       "\n",
       "    .dataframe thead th {\n",
       "        text-align: right;\n",
       "    }\n",
       "</style>\n",
       "<table border=\"1\" class=\"dataframe\">\n",
       "  <thead>\n",
       "    <tr style=\"text-align: right;\">\n",
       "      <th></th>\n",
       "      <th>payment_type_id</th>\n",
       "      <th>internet_service_type_id</th>\n",
       "      <th>contract_type_id</th>\n",
       "      <th>customer_id</th>\n",
       "      <th>gender</th>\n",
       "      <th>senior_citizen</th>\n",
       "      <th>partner</th>\n",
       "      <th>dependents</th>\n",
       "      <th>tenure</th>\n",
       "      <th>phone_service</th>\n",
       "      <th>...</th>\n",
       "      <th>tech_support</th>\n",
       "      <th>streaming_tv</th>\n",
       "      <th>streaming_movies</th>\n",
       "      <th>paperless_billing</th>\n",
       "      <th>monthly_charges</th>\n",
       "      <th>total_charges</th>\n",
       "      <th>churn</th>\n",
       "      <th>contract_type</th>\n",
       "      <th>internet_service_type</th>\n",
       "      <th>payment_type</th>\n",
       "    </tr>\n",
       "  </thead>\n",
       "  <tbody>\n",
       "  </tbody>\n",
       "</table>\n",
       "<p>0 rows × 24 columns</p>\n",
       "</div>"
      ],
      "text/plain": [
       "Empty DataFrame\n",
       "Columns: [payment_type_id, internet_service_type_id, contract_type_id, customer_id, gender, senior_citizen, partner, dependents, tenure, phone_service, multiple_lines, online_security, online_backup, device_protection, tech_support, streaming_tv, streaming_movies, paperless_billing, monthly_charges, total_charges, churn, contract_type, internet_service_type, payment_type]\n",
       "Index: []\n",
       "\n",
       "[0 rows x 24 columns]"
      ]
     },
     "execution_count": 112,
     "metadata": {},
     "output_type": "execute_result"
    }
   ],
   "source": [
    "#checking to make sure there are no rows with customers whose tenure is less than 1 month\n",
    "\n",
    "df[df.tenure == 0]"
   ]
  },
  {
   "cell_type": "code",
   "execution_count": 113,
   "id": "3ff33324-5f6c-4d2d-bfe6-433e625e4a13",
   "metadata": {},
   "outputs": [
    {
     "data": {
      "text/html": [
       "<div>\n",
       "<style scoped>\n",
       "    .dataframe tbody tr th:only-of-type {\n",
       "        vertical-align: middle;\n",
       "    }\n",
       "\n",
       "    .dataframe tbody tr th {\n",
       "        vertical-align: top;\n",
       "    }\n",
       "\n",
       "    .dataframe thead th {\n",
       "        text-align: right;\n",
       "    }\n",
       "</style>\n",
       "<table border=\"1\" class=\"dataframe\">\n",
       "  <thead>\n",
       "    <tr style=\"text-align: right;\">\n",
       "      <th></th>\n",
       "      <th>gender</th>\n",
       "      <th>senior_citizen</th>\n",
       "      <th>partner</th>\n",
       "      <th>dependents</th>\n",
       "      <th>tenure</th>\n",
       "      <th>multiple_lines</th>\n",
       "      <th>online_security</th>\n",
       "      <th>online_backup</th>\n",
       "      <th>device_protection</th>\n",
       "      <th>tech_support</th>\n",
       "      <th>streaming_tv</th>\n",
       "      <th>streaming_movies</th>\n",
       "      <th>paperless_billing</th>\n",
       "      <th>monthly_charges</th>\n",
       "      <th>total_charges</th>\n",
       "      <th>churn</th>\n",
       "      <th>contract_type</th>\n",
       "      <th>internet_service_type</th>\n",
       "      <th>payment_type</th>\n",
       "    </tr>\n",
       "  </thead>\n",
       "  <tbody>\n",
       "    <tr>\n",
       "      <th>0</th>\n",
       "      <td>Female</td>\n",
       "      <td>0</td>\n",
       "      <td>Yes</td>\n",
       "      <td>Yes</td>\n",
       "      <td>65</td>\n",
       "      <td>Yes</td>\n",
       "      <td>Yes</td>\n",
       "      <td>Yes</td>\n",
       "      <td>Yes</td>\n",
       "      <td>Yes</td>\n",
       "      <td>Yes</td>\n",
       "      <td>Yes</td>\n",
       "      <td>Yes</td>\n",
       "      <td>90.45</td>\n",
       "      <td>5957.9</td>\n",
       "      <td>No</td>\n",
       "      <td>Two year</td>\n",
       "      <td>DSL</td>\n",
       "      <td>Mailed check</td>\n",
       "    </tr>\n",
       "    <tr>\n",
       "      <th>1</th>\n",
       "      <td>Male</td>\n",
       "      <td>0</td>\n",
       "      <td>No</td>\n",
       "      <td>No</td>\n",
       "      <td>54</td>\n",
       "      <td>No phone service</td>\n",
       "      <td>Yes</td>\n",
       "      <td>No</td>\n",
       "      <td>No</td>\n",
       "      <td>Yes</td>\n",
       "      <td>Yes</td>\n",
       "      <td>No</td>\n",
       "      <td>No</td>\n",
       "      <td>45.20</td>\n",
       "      <td>2460.55</td>\n",
       "      <td>No</td>\n",
       "      <td>Two year</td>\n",
       "      <td>DSL</td>\n",
       "      <td>Credit card (automatic)</td>\n",
       "    </tr>\n",
       "    <tr>\n",
       "      <th>2</th>\n",
       "      <td>Female</td>\n",
       "      <td>0</td>\n",
       "      <td>No</td>\n",
       "      <td>No</td>\n",
       "      <td>56</td>\n",
       "      <td>No phone service</td>\n",
       "      <td>Yes</td>\n",
       "      <td>Yes</td>\n",
       "      <td>Yes</td>\n",
       "      <td>Yes</td>\n",
       "      <td>No</td>\n",
       "      <td>No</td>\n",
       "      <td>No</td>\n",
       "      <td>45.05</td>\n",
       "      <td>2560.1</td>\n",
       "      <td>No</td>\n",
       "      <td>Two year</td>\n",
       "      <td>DSL</td>\n",
       "      <td>Bank transfer (automatic)</td>\n",
       "    </tr>\n",
       "    <tr>\n",
       "      <th>3</th>\n",
       "      <td>Male</td>\n",
       "      <td>0</td>\n",
       "      <td>Yes</td>\n",
       "      <td>Yes</td>\n",
       "      <td>20</td>\n",
       "      <td>No phone service</td>\n",
       "      <td>Yes</td>\n",
       "      <td>No</td>\n",
       "      <td>Yes</td>\n",
       "      <td>Yes</td>\n",
       "      <td>No</td>\n",
       "      <td>No</td>\n",
       "      <td>Yes</td>\n",
       "      <td>39.40</td>\n",
       "      <td>825.4</td>\n",
       "      <td>No</td>\n",
       "      <td>Two year</td>\n",
       "      <td>DSL</td>\n",
       "      <td>Credit card (automatic)</td>\n",
       "    </tr>\n",
       "    <tr>\n",
       "      <th>4</th>\n",
       "      <td>Male</td>\n",
       "      <td>0</td>\n",
       "      <td>Yes</td>\n",
       "      <td>No</td>\n",
       "      <td>72</td>\n",
       "      <td>Yes</td>\n",
       "      <td>No</td>\n",
       "      <td>Yes</td>\n",
       "      <td>Yes</td>\n",
       "      <td>Yes</td>\n",
       "      <td>Yes</td>\n",
       "      <td>Yes</td>\n",
       "      <td>Yes</td>\n",
       "      <td>85.15</td>\n",
       "      <td>6316.2</td>\n",
       "      <td>No</td>\n",
       "      <td>Two year</td>\n",
       "      <td>DSL</td>\n",
       "      <td>Bank transfer (automatic)</td>\n",
       "    </tr>\n",
       "  </tbody>\n",
       "</table>\n",
       "</div>"
      ],
      "text/plain": [
       "   gender  senior_citizen partner dependents  tenure    multiple_lines  \\\n",
       "0  Female               0     Yes        Yes      65               Yes   \n",
       "1    Male               0      No         No      54  No phone service   \n",
       "2  Female               0      No         No      56  No phone service   \n",
       "3    Male               0     Yes        Yes      20  No phone service   \n",
       "4    Male               0     Yes         No      72               Yes   \n",
       "\n",
       "  online_security online_backup device_protection tech_support streaming_tv  \\\n",
       "0             Yes           Yes               Yes          Yes          Yes   \n",
       "1             Yes            No                No          Yes          Yes   \n",
       "2             Yes           Yes               Yes          Yes           No   \n",
       "3             Yes            No               Yes          Yes           No   \n",
       "4              No           Yes               Yes          Yes          Yes   \n",
       "\n",
       "  streaming_movies paperless_billing  monthly_charges total_charges churn  \\\n",
       "0              Yes               Yes            90.45        5957.9    No   \n",
       "1               No                No            45.20       2460.55    No   \n",
       "2               No                No            45.05        2560.1    No   \n",
       "3               No               Yes            39.40         825.4    No   \n",
       "4              Yes               Yes            85.15        6316.2    No   \n",
       "\n",
       "  contract_type internet_service_type               payment_type  \n",
       "0      Two year                   DSL               Mailed check  \n",
       "1      Two year                   DSL    Credit card (automatic)  \n",
       "2      Two year                   DSL  Bank transfer (automatic)  \n",
       "3      Two year                   DSL    Credit card (automatic)  \n",
       "4      Two year                   DSL  Bank transfer (automatic)  "
      ]
     },
     "execution_count": 113,
     "metadata": {},
     "output_type": "execute_result"
    }
   ],
   "source": [
    "#dropping unneccessary columns\n",
    "#'payment_type_id', 'internet_service_type_id', 'contract_type_id', 'customer_id'\n",
    "\n",
    "columns_to_drop = ['payment_type_id', 'internet_service_type_id', 'contract_type_id', 'customer_id', 'phone_service']\n",
    "df = df.drop(columns=columns_to_drop)\n",
    "df.head()"
   ]
  },
  {
   "cell_type": "code",
   "execution_count": 71,
   "id": "5d213cae-f0e9-4fc3-a9ac-2c0cf93f7b29",
   "metadata": {},
   "outputs": [],
   "source": [
    "#Before I start to convert my columns, I want to check their values. This will help me know how to handle them.\n"
   ]
  },
  {
   "cell_type": "code",
   "execution_count": 72,
   "id": "273a6007-2c98-4a73-b4b0-ac173a6d031c",
   "metadata": {},
   "outputs": [
    {
     "data": {
      "text/plain": [
       "Male      3549\n",
       "Female    3483\n",
       "Name: gender, dtype: int64"
      ]
     },
     "execution_count": 72,
     "metadata": {},
     "output_type": "execute_result"
    }
   ],
   "source": [
    "df.gender.value_counts()"
   ]
  },
  {
   "cell_type": "code",
   "execution_count": 74,
   "id": "af1d6838-6e0c-4228-8fd7-8f3bbb829b9e",
   "metadata": {},
   "outputs": [
    {
     "data": {
      "text/plain": [
       "No     3639\n",
       "Yes    3393\n",
       "Name: partner, dtype: int64"
      ]
     },
     "execution_count": 74,
     "metadata": {},
     "output_type": "execute_result"
    }
   ],
   "source": [
    "df.partner.value_counts()"
   ]
  },
  {
   "cell_type": "code",
   "execution_count": 75,
   "id": "acc9e427-b219-4ac0-b2f6-a6f5c679afef",
   "metadata": {},
   "outputs": [
    {
     "data": {
      "text/plain": [
       "No     4933\n",
       "Yes    2099\n",
       "Name: dependents, dtype: int64"
      ]
     },
     "execution_count": 75,
     "metadata": {},
     "output_type": "execute_result"
    }
   ],
   "source": [
    "df.dependents.value_counts()"
   ]
  },
  {
   "cell_type": "code",
   "execution_count": 114,
   "id": "57b87ae9-3624-4e43-8552-28174b2a2243",
   "metadata": {},
   "outputs": [],
   "source": [
    "#df.phone_service.value_counts()  commented out bc column has been dropped after initial explore.  \n",
    "#results were redundant with multiple_lines column. Yes: 6352, No: 680"
   ]
  },
  {
   "cell_type": "code",
   "execution_count": 115,
   "id": "ad9a241d-7325-4dfe-9b19-9c21414197c8",
   "metadata": {},
   "outputs": [
    {
     "data": {
      "text/plain": [
       "No                  3385\n",
       "Yes                 2967\n",
       "No phone service     680\n",
       "Name: multiple_lines, dtype: int64"
      ]
     },
     "execution_count": 115,
     "metadata": {},
     "output_type": "execute_result"
    }
   ],
   "source": [
    "df.multiple_lines.value_counts()"
   ]
  },
  {
   "cell_type": "code",
   "execution_count": 116,
   "id": "ea1505a2-e814-4fde-8a36-8b526519ed22",
   "metadata": {},
   "outputs": [],
   "source": [
    "#The value \"no phone service\" seems to be redundant here. I can go back and add the 'phone_service' column to the drop_columns list."
   ]
  },
  {
   "cell_type": "code",
   "execution_count": 117,
   "id": "aef9f3cd-a1d2-4513-abc7-10eeb8a4ffc2",
   "metadata": {},
   "outputs": [
    {
     "data": {
      "text/plain": [
       "No                     3497\n",
       "Yes                    2015\n",
       "No internet service    1520\n",
       "Name: online_security, dtype: int64"
      ]
     },
     "execution_count": 117,
     "metadata": {},
     "output_type": "execute_result"
    }
   ],
   "source": [
    "df.online_security.value_counts()"
   ]
  },
  {
   "cell_type": "code",
   "execution_count": 118,
   "id": "3ead9590-f53e-449f-a427-90708f45977a",
   "metadata": {},
   "outputs": [
    {
     "data": {
      "text/plain": [
       "No                     3087\n",
       "Yes                    2425\n",
       "No internet service    1520\n",
       "Name: online_backup, dtype: int64"
      ]
     },
     "execution_count": 118,
     "metadata": {},
     "output_type": "execute_result"
    }
   ],
   "source": [
    "df.online_backup.value_counts()"
   ]
  },
  {
   "cell_type": "code",
   "execution_count": 119,
   "id": "49d57398-cadc-4ed9-aedb-3b2f3351f0b0",
   "metadata": {},
   "outputs": [
    {
     "data": {
      "text/plain": [
       "No                     3094\n",
       "Yes                    2418\n",
       "No internet service    1520\n",
       "Name: device_protection, dtype: int64"
      ]
     },
     "execution_count": 119,
     "metadata": {},
     "output_type": "execute_result"
    }
   ],
   "source": [
    "df.device_protection.value_counts()"
   ]
  },
  {
   "cell_type": "code",
   "execution_count": 120,
   "id": "54057a0e-4555-47d3-a810-614a2e095230",
   "metadata": {},
   "outputs": [],
   "source": [
    "#I can likely combine these features to be one column like internet_protection_services\n"
   ]
  },
  {
   "cell_type": "code",
   "execution_count": 121,
   "id": "44af61c0-3a94-4763-939b-300a876b0694",
   "metadata": {},
   "outputs": [
    {
     "data": {
      "text/plain": [
       "No                     3472\n",
       "Yes                    2040\n",
       "No internet service    1520\n",
       "Name: tech_support, dtype: int64"
      ]
     },
     "execution_count": 121,
     "metadata": {},
     "output_type": "execute_result"
    }
   ],
   "source": [
    "df.tech_support.value_counts()"
   ]
  },
  {
   "cell_type": "code",
   "execution_count": 122,
   "id": "5f78ab29-407d-45c1-8646-57c8fd1759dd",
   "metadata": {},
   "outputs": [
    {
     "data": {
      "text/plain": [
       "No                     2809\n",
       "Yes                    2703\n",
       "No internet service    1520\n",
       "Name: streaming_tv, dtype: int64"
      ]
     },
     "execution_count": 122,
     "metadata": {},
     "output_type": "execute_result"
    }
   ],
   "source": [
    "df.streaming_tv.value_counts()"
   ]
  },
  {
   "cell_type": "code",
   "execution_count": 123,
   "id": "4cfb96e4-a00a-4dc6-b59c-67fdf7588233",
   "metadata": {},
   "outputs": [
    {
     "data": {
      "text/plain": [
       "No                     2781\n",
       "Yes                    2731\n",
       "No internet service    1520\n",
       "Name: streaming_movies, dtype: int64"
      ]
     },
     "execution_count": 123,
     "metadata": {},
     "output_type": "execute_result"
    }
   ],
   "source": [
    "df.streaming_movies.value_counts()"
   ]
  },
  {
   "cell_type": "code",
   "execution_count": 124,
   "id": "0490f91a-9b66-40f0-abbe-ab675439c532",
   "metadata": {},
   "outputs": [],
   "source": [
    "#the streaming services are not for a fee, so it makes sense to combine them into one streaming column. "
   ]
  },
  {
   "cell_type": "code",
   "execution_count": 125,
   "id": "cb35d121-6661-45b6-a656-17bc378afc9b",
   "metadata": {},
   "outputs": [
    {
     "data": {
      "text/plain": [
       "Yes    4168\n",
       "No     2864\n",
       "Name: paperless_billing, dtype: int64"
      ]
     },
     "execution_count": 125,
     "metadata": {},
     "output_type": "execute_result"
    }
   ],
   "source": [
    "df.paperless_billing.value_counts()"
   ]
  },
  {
   "cell_type": "code",
   "execution_count": 126,
   "id": "a83ed8cb-23e4-4786-8280-711bce0ec646",
   "metadata": {},
   "outputs": [
    {
     "data": {
      "text/plain": [
       "Month-to-month    3875\n",
       "Two year          1685\n",
       "One year          1472\n",
       "Name: contract_type, dtype: int64"
      ]
     },
     "execution_count": 126,
     "metadata": {},
     "output_type": "execute_result"
    }
   ],
   "source": [
    "df.contract_type.value_counts()"
   ]
  },
  {
   "cell_type": "code",
   "execution_count": 127,
   "id": "021e7bd2-8c21-4029-a371-6c1730fe85c0",
   "metadata": {},
   "outputs": [
    {
     "data": {
      "text/plain": [
       "Fiber optic    3096\n",
       "DSL            2416\n",
       "None           1520\n",
       "Name: internet_service_type, dtype: int64"
      ]
     },
     "execution_count": 127,
     "metadata": {},
     "output_type": "execute_result"
    }
   ],
   "source": [
    "df.internet_service_type.value_counts()"
   ]
  },
  {
   "cell_type": "code",
   "execution_count": 128,
   "id": "e4f2b752-bf9f-4a8f-a69e-a210856cd239",
   "metadata": {},
   "outputs": [
    {
     "data": {
      "text/plain": [
       "Electronic check             2365\n",
       "Mailed check                 1604\n",
       "Bank transfer (automatic)    1542\n",
       "Credit card (automatic)      1521\n",
       "Name: payment_type, dtype: int64"
      ]
     },
     "execution_count": 128,
     "metadata": {},
     "output_type": "execute_result"
    }
   ],
   "source": [
    "df.payment_type.value_counts()"
   ]
  },
  {
   "cell_type": "code",
   "execution_count": 129,
   "id": "a72dfd84-b996-44c3-9e03-1a5c7352879f",
   "metadata": {},
   "outputs": [
    {
     "data": {
      "text/html": [
       "<div>\n",
       "<style scoped>\n",
       "    .dataframe tbody tr th:only-of-type {\n",
       "        vertical-align: middle;\n",
       "    }\n",
       "\n",
       "    .dataframe tbody tr th {\n",
       "        vertical-align: top;\n",
       "    }\n",
       "\n",
       "    .dataframe thead th {\n",
       "        text-align: right;\n",
       "    }\n",
       "</style>\n",
       "<table border=\"1\" class=\"dataframe\">\n",
       "  <thead>\n",
       "    <tr style=\"text-align: right;\">\n",
       "      <th></th>\n",
       "      <th>senior_citizen</th>\n",
       "      <th>tenure</th>\n",
       "      <th>monthly_charges</th>\n",
       "    </tr>\n",
       "  </thead>\n",
       "  <tbody>\n",
       "    <tr>\n",
       "      <th>count</th>\n",
       "      <td>7032.000000</td>\n",
       "      <td>7032.000000</td>\n",
       "      <td>7032.000000</td>\n",
       "    </tr>\n",
       "    <tr>\n",
       "      <th>mean</th>\n",
       "      <td>0.162400</td>\n",
       "      <td>32.421786</td>\n",
       "      <td>64.798208</td>\n",
       "    </tr>\n",
       "    <tr>\n",
       "      <th>std</th>\n",
       "      <td>0.368844</td>\n",
       "      <td>24.545260</td>\n",
       "      <td>30.085974</td>\n",
       "    </tr>\n",
       "    <tr>\n",
       "      <th>min</th>\n",
       "      <td>0.000000</td>\n",
       "      <td>1.000000</td>\n",
       "      <td>18.250000</td>\n",
       "    </tr>\n",
       "    <tr>\n",
       "      <th>25%</th>\n",
       "      <td>0.000000</td>\n",
       "      <td>9.000000</td>\n",
       "      <td>35.587500</td>\n",
       "    </tr>\n",
       "    <tr>\n",
       "      <th>50%</th>\n",
       "      <td>0.000000</td>\n",
       "      <td>29.000000</td>\n",
       "      <td>70.350000</td>\n",
       "    </tr>\n",
       "    <tr>\n",
       "      <th>75%</th>\n",
       "      <td>0.000000</td>\n",
       "      <td>55.000000</td>\n",
       "      <td>89.862500</td>\n",
       "    </tr>\n",
       "    <tr>\n",
       "      <th>max</th>\n",
       "      <td>1.000000</td>\n",
       "      <td>72.000000</td>\n",
       "      <td>118.750000</td>\n",
       "    </tr>\n",
       "  </tbody>\n",
       "</table>\n",
       "</div>"
      ],
      "text/plain": [
       "       senior_citizen       tenure  monthly_charges\n",
       "count     7032.000000  7032.000000      7032.000000\n",
       "mean         0.162400    32.421786        64.798208\n",
       "std          0.368844    24.545260        30.085974\n",
       "min          0.000000     1.000000        18.250000\n",
       "25%          0.000000     9.000000        35.587500\n",
       "50%          0.000000    29.000000        70.350000\n",
       "75%          0.000000    55.000000        89.862500\n",
       "max          1.000000    72.000000       118.750000"
      ]
     },
     "execution_count": 129,
     "metadata": {},
     "output_type": "execute_result"
    }
   ],
   "source": [
    "#The columns look pretty straight forward to handle.  I'll visualize first with dropped columns, \n",
    "#then after I visualize, I'll convert and encode columns containing strings.\n",
    "df.describe()"
   ]
  },
  {
   "cell_type": "code",
   "execution_count": 130,
   "id": "771d88da-5818-4917-ac16-7152191f65bc",
   "metadata": {},
   "outputs": [
    {
     "data": {
      "text/plain": [
       "0        5957.9\n",
       "1       2460.55\n",
       "2        2560.1\n",
       "3         825.4\n",
       "4        6316.2\n",
       "         ...   \n",
       "7038      20.05\n",
       "7039     367.55\n",
       "7040     129.55\n",
       "7041       18.9\n",
       "7042       85.5\n",
       "Name: total_charges, Length: 7032, dtype: object"
      ]
     },
     "execution_count": 130,
     "metadata": {},
     "output_type": "execute_result"
    }
   ],
   "source": [
    "#the above shows me that \"total_charges\" is not in a numeric datatype\n",
    "\n",
    "df.total_charges"
   ]
  },
  {
   "cell_type": "code",
   "execution_count": 131,
   "id": "de93f0a3-7afe-4563-a1b5-ffb2a39452f6",
   "metadata": {},
   "outputs": [
    {
     "data": {
      "text/plain": [
       "0       5957.90\n",
       "1       2460.55\n",
       "2       2560.10\n",
       "3        825.40\n",
       "4       6316.20\n",
       "         ...   \n",
       "7038      20.05\n",
       "7039     367.55\n",
       "7040     129.55\n",
       "7041      18.90\n",
       "7042      85.50\n",
       "Name: total_charges, Length: 7032, dtype: float64"
      ]
     },
     "execution_count": 131,
     "metadata": {},
     "output_type": "execute_result"
    }
   ],
   "source": [
    "df.total_charges = df.total_charges.astype(float)\n",
    "df.total_charges"
   ]
  },
  {
   "cell_type": "code",
   "execution_count": 132,
   "id": "19576529-14d3-437d-8642-05ef81cce656",
   "metadata": {},
   "outputs": [
    {
     "data": {
      "text/html": [
       "<div>\n",
       "<style scoped>\n",
       "    .dataframe tbody tr th:only-of-type {\n",
       "        vertical-align: middle;\n",
       "    }\n",
       "\n",
       "    .dataframe tbody tr th {\n",
       "        vertical-align: top;\n",
       "    }\n",
       "\n",
       "    .dataframe thead th {\n",
       "        text-align: right;\n",
       "    }\n",
       "</style>\n",
       "<table border=\"1\" class=\"dataframe\">\n",
       "  <thead>\n",
       "    <tr style=\"text-align: right;\">\n",
       "      <th></th>\n",
       "      <th>senior_citizen</th>\n",
       "      <th>tenure</th>\n",
       "      <th>monthly_charges</th>\n",
       "      <th>total_charges</th>\n",
       "    </tr>\n",
       "  </thead>\n",
       "  <tbody>\n",
       "    <tr>\n",
       "      <th>count</th>\n",
       "      <td>7032.000000</td>\n",
       "      <td>7032.000000</td>\n",
       "      <td>7032.000000</td>\n",
       "      <td>7032.000000</td>\n",
       "    </tr>\n",
       "    <tr>\n",
       "      <th>mean</th>\n",
       "      <td>0.162400</td>\n",
       "      <td>32.421786</td>\n",
       "      <td>64.798208</td>\n",
       "      <td>2283.300441</td>\n",
       "    </tr>\n",
       "    <tr>\n",
       "      <th>std</th>\n",
       "      <td>0.368844</td>\n",
       "      <td>24.545260</td>\n",
       "      <td>30.085974</td>\n",
       "      <td>2266.771362</td>\n",
       "    </tr>\n",
       "    <tr>\n",
       "      <th>min</th>\n",
       "      <td>0.000000</td>\n",
       "      <td>1.000000</td>\n",
       "      <td>18.250000</td>\n",
       "      <td>18.800000</td>\n",
       "    </tr>\n",
       "    <tr>\n",
       "      <th>25%</th>\n",
       "      <td>0.000000</td>\n",
       "      <td>9.000000</td>\n",
       "      <td>35.587500</td>\n",
       "      <td>401.450000</td>\n",
       "    </tr>\n",
       "    <tr>\n",
       "      <th>50%</th>\n",
       "      <td>0.000000</td>\n",
       "      <td>29.000000</td>\n",
       "      <td>70.350000</td>\n",
       "      <td>1397.475000</td>\n",
       "    </tr>\n",
       "    <tr>\n",
       "      <th>75%</th>\n",
       "      <td>0.000000</td>\n",
       "      <td>55.000000</td>\n",
       "      <td>89.862500</td>\n",
       "      <td>3794.737500</td>\n",
       "    </tr>\n",
       "    <tr>\n",
       "      <th>max</th>\n",
       "      <td>1.000000</td>\n",
       "      <td>72.000000</td>\n",
       "      <td>118.750000</td>\n",
       "      <td>8684.800000</td>\n",
       "    </tr>\n",
       "  </tbody>\n",
       "</table>\n",
       "</div>"
      ],
      "text/plain": [
       "       senior_citizen       tenure  monthly_charges  total_charges\n",
       "count     7032.000000  7032.000000      7032.000000    7032.000000\n",
       "mean         0.162400    32.421786        64.798208    2283.300441\n",
       "std          0.368844    24.545260        30.085974    2266.771362\n",
       "min          0.000000     1.000000        18.250000      18.800000\n",
       "25%          0.000000     9.000000        35.587500     401.450000\n",
       "50%          0.000000    29.000000        70.350000    1397.475000\n",
       "75%          0.000000    55.000000        89.862500    3794.737500\n",
       "max          1.000000    72.000000       118.750000    8684.800000"
      ]
     },
     "execution_count": 132,
     "metadata": {},
     "output_type": "execute_result"
    }
   ],
   "source": [
    "df.describe()"
   ]
  },
  {
   "cell_type": "code",
   "execution_count": 135,
   "id": "44dccc63-60de-4597-8501-997108118714",
   "metadata": {},
   "outputs": [
    {
     "data": {
      "image/png": "[encoded data removed]",
      "text/plain": [
       "<Figure size 432x288 with 1 Axes>"
      ]
     },
     "metadata": {
      "needs_background": "light"
     },
     "output_type": "display_data"
    },
    {
     "data": {
      "image/png": "[encoded data removed]",
      "text/plain": [
       "<Figure size 432x288 with 1 Axes>"
      ]
     },
     "metadata": {
      "needs_background": "light"
     },
     "output_type": "display_data"
    }
   ],
   "source": [
    "num_cols = df.columns[[df[col].dtype == 'int64' for col in df.columns]]\n",
    "for col in num_cols:\n",
    "    plt.hist(df[col])\n",
    "    plt.title(col)\n",
    "    plt.show()"
   ]
  },
  {
   "cell_type": "code",
   "execution_count": 137,
   "id": "8bb35f9a-476c-4a20-a7ca-ba9e94226c44",
   "metadata": {},
   "outputs": [
    {
     "data": {
      "text/plain": [
       "0    5890\n",
       "1    1142\n",
       "Name: senior_citizen, dtype: int64"
      ]
     },
     "execution_count": 137,
     "metadata": {},
     "output_type": "execute_result"
    }
   ],
   "source": [
    "df.senior_citizen.value_counts()"
   ]
  },
  {
   "cell_type": "code",
   "execution_count": 136,
   "id": "a0d50c63-5eb5-40d2-8d09-b5577156bf84",
   "metadata": {},
   "outputs": [
    {
     "name": "stdout",
     "output_type": "stream",
     "text": [
      "Male      3549\n",
      "Female    3483\n",
      "Name: gender, dtype: int64\n",
      "Male      0.504693\n",
      "Female    0.495307\n",
      "Name: gender, dtype: float64\n",
      "----------------------\n",
      "No     3639\n",
      "Yes    3393\n",
      "Name: partner, dtype: int64\n",
      "No     0.517491\n",
      "Yes    0.482509\n",
      "Name: partner, dtype: float64\n",
      "----------------------\n",
      "No     4933\n",
      "Yes    2099\n",
      "Name: dependents, dtype: int64\n",
      "No     0.701507\n",
      "Yes    0.298493\n",
      "Name: dependents, dtype: float64\n",
      "----------------------\n",
      "No                  3385\n",
      "Yes                 2967\n",
      "No phone service     680\n",
      "Name: multiple_lines, dtype: int64\n",
      "No                  0.481371\n",
      "Yes                 0.421928\n",
      "No phone service    0.096701\n",
      "Name: multiple_lines, dtype: float64\n",
      "----------------------\n",
      "No                     3497\n",
      "Yes                    2015\n",
      "No internet service    1520\n",
      "Name: online_security, dtype: int64\n",
      "No                     0.497298\n",
      "Yes                    0.286547\n",
      "No internet service    0.216155\n",
      "Name: online_security, dtype: float64\n",
      "----------------------\n",
      "No                     3087\n",
      "Yes                    2425\n",
      "No internet service    1520\n",
      "Name: online_backup, dtype: int64\n",
      "No                     0.438993\n",
      "Yes                    0.344852\n",
      "No internet service    0.216155\n",
      "Name: online_backup, dtype: float64\n",
      "----------------------\n",
      "No                     3094\n",
      "Yes                    2418\n",
      "No internet service    1520\n",
      "Name: device_protection, dtype: int64\n",
      "No                     0.439989\n",
      "Yes                    0.343857\n",
      "No internet service    0.216155\n",
      "Name: device_protection, dtype: float64\n",
      "----------------------\n",
      "No                     3472\n",
      "Yes                    2040\n",
      "No internet service    1520\n",
      "Name: tech_support, dtype: int64\n",
      "No                     0.493743\n",
      "Yes                    0.290102\n",
      "No internet service    0.216155\n",
      "Name: tech_support, dtype: float64\n",
      "----------------------\n",
      "No                     2809\n",
      "Yes                    2703\n",
      "No internet service    1520\n",
      "Name: streaming_tv, dtype: int64\n",
      "No                     0.399460\n",
      "Yes                    0.384386\n",
      "No internet service    0.216155\n",
      "Name: streaming_tv, dtype: float64\n",
      "----------------------\n",
      "No                     2781\n",
      "Yes                    2731\n",
      "No internet service    1520\n",
      "Name: streaming_movies, dtype: int64\n",
      "No                     0.395478\n",
      "Yes                    0.388367\n",
      "No internet service    0.216155\n",
      "Name: streaming_movies, dtype: float64\n",
      "----------------------\n",
      "Yes    4168\n",
      "No     2864\n",
      "Name: paperless_billing, dtype: int64\n",
      "Yes    0.592719\n",
      "No     0.407281\n",
      "Name: paperless_billing, dtype: float64\n",
      "----------------------\n",
      "No     5163\n",
      "Yes    1869\n",
      "Name: churn, dtype: int64\n",
      "No     0.734215\n",
      "Yes    0.265785\n",
      "Name: churn, dtype: float64\n",
      "----------------------\n",
      "Month-to-month    3875\n",
      "Two year          1685\n",
      "One year          1472\n",
      "Name: contract_type, dtype: int64\n",
      "Month-to-month    0.551052\n",
      "Two year          0.239619\n",
      "One year          0.209329\n",
      "Name: contract_type, dtype: float64\n",
      "----------------------\n",
      "Fiber optic    3096\n",
      "DSL            2416\n",
      "None           1520\n",
      "Name: internet_service_type, dtype: int64\n",
      "Fiber optic    0.440273\n",
      "DSL            0.343572\n",
      "None           0.216155\n",
      "Name: internet_service_type, dtype: float64\n",
      "----------------------\n",
      "Electronic check             2365\n",
      "Mailed check                 1604\n",
      "Bank transfer (automatic)    1542\n",
      "Credit card (automatic)      1521\n",
      "Name: payment_type, dtype: int64\n",
      "Electronic check             0.336320\n",
      "Mailed check                 0.228100\n",
      "Bank transfer (automatic)    0.219283\n",
      "Credit card (automatic)      0.216297\n",
      "Name: payment_type, dtype: float64\n",
      "----------------------\n"
     ]
    }
   ],
   "source": [
    "obj_cols = df.columns[[df[col].dtype == 'O' for col in df.columns]]\n",
    "for col in obj_cols:\n",
    "    print(df[col].value_counts())\n",
    "    print(df[col].value_counts(normalize=True, dropna=False))\n",
    "    print('----------------------')"
   ]
  },
  {
   "cell_type": "code",
   "execution_count": null,
   "id": "3005e7d3-1fe9-4efa-ab53-5efd5d2eefef",
   "metadata": {},
   "outputs": [],
   "source": [
    "#at a glance with the summaries for each column, they appear to be fairly evenly distributed\n",
    "#exception: month to month customers far outweigh one and two-year customers, much more customers do not have dependents, and less than 10% of customers do not have phone service"
   ]
  },
  {
   "cell_type": "code",
   "execution_count": 101,
   "id": "ab83ca38-f3fa-444a-bbe7-eee6bb4d90db",
   "metadata": {},
   "outputs": [],
   "source": [
    "#create dummy columns for ['gender', 'partner', 'dependents', phone_service', 'paperless_billing', 'churn']"
   ]
  },
  {
   "cell_type": "code",
   "execution_count": 147,
   "id": "1a8662e9-2b79-4dbd-a277-544b3f3b9db4",
   "metadata": {},
   "outputs": [
    {
     "data": {
      "text/html": [
       "<div>\n",
       "<style scoped>\n",
       "    .dataframe tbody tr th:only-of-type {\n",
       "        vertical-align: middle;\n",
       "    }\n",
       "\n",
       "    .dataframe tbody tr th {\n",
       "        vertical-align: top;\n",
       "    }\n",
       "\n",
       "    .dataframe thead th {\n",
       "        text-align: right;\n",
       "    }\n",
       "</style>\n",
       "<table border=\"1\" class=\"dataframe\">\n",
       "  <thead>\n",
       "    <tr style=\"text-align: right;\">\n",
       "      <th></th>\n",
       "      <th>gender</th>\n",
       "      <th>senior_citizen</th>\n",
       "      <th>partner</th>\n",
       "      <th>dependents</th>\n",
       "      <th>tenure</th>\n",
       "      <th>multiple_lines</th>\n",
       "      <th>online_security</th>\n",
       "      <th>online_backup</th>\n",
       "      <th>device_protection</th>\n",
       "      <th>tech_support</th>\n",
       "      <th>streaming_tv</th>\n",
       "      <th>streaming_movies</th>\n",
       "      <th>paperless_billing</th>\n",
       "      <th>monthly_charges</th>\n",
       "      <th>total_charges</th>\n",
       "      <th>churn</th>\n",
       "      <th>contract_type</th>\n",
       "      <th>internet_service_type</th>\n",
       "      <th>payment_type</th>\n",
       "    </tr>\n",
       "  </thead>\n",
       "  <tbody>\n",
       "    <tr>\n",
       "      <th>0</th>\n",
       "      <td>Female</td>\n",
       "      <td>0</td>\n",
       "      <td>Yes</td>\n",
       "      <td>Yes</td>\n",
       "      <td>65</td>\n",
       "      <td>Yes</td>\n",
       "      <td>Yes</td>\n",
       "      <td>Yes</td>\n",
       "      <td>Yes</td>\n",
       "      <td>Yes</td>\n",
       "      <td>Yes</td>\n",
       "      <td>Yes</td>\n",
       "      <td>Yes</td>\n",
       "      <td>90.45</td>\n",
       "      <td>5957.90</td>\n",
       "      <td>No</td>\n",
       "      <td>Two year</td>\n",
       "      <td>DSL</td>\n",
       "      <td>Mailed check</td>\n",
       "    </tr>\n",
       "    <tr>\n",
       "      <th>1</th>\n",
       "      <td>Male</td>\n",
       "      <td>0</td>\n",
       "      <td>No</td>\n",
       "      <td>No</td>\n",
       "      <td>54</td>\n",
       "      <td>No phone service</td>\n",
       "      <td>Yes</td>\n",
       "      <td>No</td>\n",
       "      <td>No</td>\n",
       "      <td>Yes</td>\n",
       "      <td>Yes</td>\n",
       "      <td>No</td>\n",
       "      <td>No</td>\n",
       "      <td>45.20</td>\n",
       "      <td>2460.55</td>\n",
       "      <td>No</td>\n",
       "      <td>Two year</td>\n",
       "      <td>DSL</td>\n",
       "      <td>Credit card (automatic)</td>\n",
       "    </tr>\n",
       "    <tr>\n",
       "      <th>2</th>\n",
       "      <td>Female</td>\n",
       "      <td>0</td>\n",
       "      <td>No</td>\n",
       "      <td>No</td>\n",
       "      <td>56</td>\n",
       "      <td>No phone service</td>\n",
       "      <td>Yes</td>\n",
       "      <td>Yes</td>\n",
       "      <td>Yes</td>\n",
       "      <td>Yes</td>\n",
       "      <td>No</td>\n",
       "      <td>No</td>\n",
       "      <td>No</td>\n",
       "      <td>45.05</td>\n",
       "      <td>2560.10</td>\n",
       "      <td>No</td>\n",
       "      <td>Two year</td>\n",
       "      <td>DSL</td>\n",
       "      <td>Bank transfer (automatic)</td>\n",
       "    </tr>\n",
       "  </tbody>\n",
       "</table>\n",
       "</div>"
      ],
      "text/plain": [
       "   gender  senior_citizen partner dependents  tenure    multiple_lines  \\\n",
       "0  Female               0     Yes        Yes      65               Yes   \n",
       "1    Male               0      No         No      54  No phone service   \n",
       "2  Female               0      No         No      56  No phone service   \n",
       "\n",
       "  online_security online_backup device_protection tech_support streaming_tv  \\\n",
       "0             Yes           Yes               Yes          Yes          Yes   \n",
       "1             Yes            No                No          Yes          Yes   \n",
       "2             Yes           Yes               Yes          Yes           No   \n",
       "\n",
       "  streaming_movies paperless_billing  monthly_charges  total_charges churn  \\\n",
       "0              Yes               Yes            90.45        5957.90    No   \n",
       "1               No                No            45.20        2460.55    No   \n",
       "2               No                No            45.05        2560.10    No   \n",
       "\n",
       "  contract_type internet_service_type               payment_type  \n",
       "0      Two year                   DSL               Mailed check  \n",
       "1      Two year                   DSL    Credit card (automatic)  \n",
       "2      Two year                   DSL  Bank transfer (automatic)  "
      ]
     },
     "execution_count": 147,
     "metadata": {},
     "output_type": "execute_result"
    }
   ],
   "source": [
    "df.head(3)"
   ]
  },
  {
   "cell_type": "code",
   "execution_count": 149,
   "id": "dd8ce8fe-169b-417d-8920-bf06b3c2331b",
   "metadata": {},
   "outputs": [
    {
     "data": {
      "text/html": [
       "<div>\n",
       "<style scoped>\n",
       "    .dataframe tbody tr th:only-of-type {\n",
       "        vertical-align: middle;\n",
       "    }\n",
       "\n",
       "    .dataframe tbody tr th {\n",
       "        vertical-align: top;\n",
       "    }\n",
       "\n",
       "    .dataframe thead th {\n",
       "        text-align: right;\n",
       "    }\n",
       "</style>\n",
       "<table border=\"1\" class=\"dataframe\">\n",
       "  <thead>\n",
       "    <tr style=\"text-align: right;\">\n",
       "      <th></th>\n",
       "      <th>gender_Male</th>\n",
       "      <th>partner_Yes</th>\n",
       "      <th>dependents_Yes</th>\n",
       "      <th>paperless_billing_Yes</th>\n",
       "      <th>churn_Yes</th>\n",
       "    </tr>\n",
       "  </thead>\n",
       "  <tbody>\n",
       "    <tr>\n",
       "      <th>0</th>\n",
       "      <td>0</td>\n",
       "      <td>1</td>\n",
       "      <td>1</td>\n",
       "      <td>1</td>\n",
       "      <td>0</td>\n",
       "    </tr>\n",
       "    <tr>\n",
       "      <th>1</th>\n",
       "      <td>1</td>\n",
       "      <td>0</td>\n",
       "      <td>0</td>\n",
       "      <td>0</td>\n",
       "      <td>0</td>\n",
       "    </tr>\n",
       "    <tr>\n",
       "      <th>2</th>\n",
       "      <td>0</td>\n",
       "      <td>0</td>\n",
       "      <td>0</td>\n",
       "      <td>0</td>\n",
       "      <td>0</td>\n",
       "    </tr>\n",
       "    <tr>\n",
       "      <th>3</th>\n",
       "      <td>1</td>\n",
       "      <td>1</td>\n",
       "      <td>1</td>\n",
       "      <td>1</td>\n",
       "      <td>0</td>\n",
       "    </tr>\n",
       "    <tr>\n",
       "      <th>4</th>\n",
       "      <td>1</td>\n",
       "      <td>1</td>\n",
       "      <td>0</td>\n",
       "      <td>1</td>\n",
       "      <td>0</td>\n",
       "    </tr>\n",
       "  </tbody>\n",
       "</table>\n",
       "</div>"
      ],
      "text/plain": [
       "   gender_Male  partner_Yes  dependents_Yes  paperless_billing_Yes  churn_Yes\n",
       "0            0            1               1                      1          0\n",
       "1            1            0               0                      0          0\n",
       "2            0            0               0                      0          0\n",
       "3            1            1               1                      1          0\n",
       "4            1            1               0                      1          0"
      ]
     },
     "execution_count": 149,
     "metadata": {},
     "output_type": "execute_result"
    }
   ],
   "source": [
    "#since some columns have just yes/no and others have more info, I'm going to keep them together so I can separate them in a more streamlined way.\n",
    "\n",
    "drop_yn_cols = ['gender', 'partner', 'dependents', 'paperless_billing', 'churn']\n",
    "dummy_df = pd.get_dummies(df[drop_yn_cols], dummy_na=False, drop_first=[True])\n",
    "dummy_df.head()"
   ]
  },
  {
   "cell_type": "code",
   "execution_count": 155,
   "id": "43e1393e-5fca-49d9-a39c-d8e9e5666f58",
   "metadata": {},
   "outputs": [
    {
     "data": {
      "text/html": [
       "<div>\n",
       "<style scoped>\n",
       "    .dataframe tbody tr th:only-of-type {\n",
       "        vertical-align: middle;\n",
       "    }\n",
       "\n",
       "    .dataframe tbody tr th {\n",
       "        vertical-align: top;\n",
       "    }\n",
       "\n",
       "    .dataframe thead th {\n",
       "        text-align: right;\n",
       "    }\n",
       "</style>\n",
       "<table border=\"1\" class=\"dataframe\">\n",
       "  <thead>\n",
       "    <tr style=\"text-align: right;\">\n",
       "      <th></th>\n",
       "      <th>multiple_lines_No</th>\n",
       "      <th>multiple_lines_No phone service</th>\n",
       "      <th>multiple_lines_Yes</th>\n",
       "      <th>online_security_No</th>\n",
       "      <th>online_security_No internet service</th>\n",
       "      <th>online_security_Yes</th>\n",
       "      <th>online_backup_No</th>\n",
       "      <th>online_backup_No internet service</th>\n",
       "      <th>online_backup_Yes</th>\n",
       "      <th>device_protection_No</th>\n",
       "      <th>...</th>\n",
       "      <th>contract_type_Month-to-month</th>\n",
       "      <th>contract_type_One year</th>\n",
       "      <th>contract_type_Two year</th>\n",
       "      <th>internet_service_type_DSL</th>\n",
       "      <th>internet_service_type_Fiber optic</th>\n",
       "      <th>internet_service_type_None</th>\n",
       "      <th>payment_type_Bank transfer (automatic)</th>\n",
       "      <th>payment_type_Credit card (automatic)</th>\n",
       "      <th>payment_type_Electronic check</th>\n",
       "      <th>payment_type_Mailed check</th>\n",
       "    </tr>\n",
       "  </thead>\n",
       "  <tbody>\n",
       "    <tr>\n",
       "      <th>0</th>\n",
       "      <td>0</td>\n",
       "      <td>0</td>\n",
       "      <td>1</td>\n",
       "      <td>0</td>\n",
       "      <td>0</td>\n",
       "      <td>1</td>\n",
       "      <td>0</td>\n",
       "      <td>0</td>\n",
       "      <td>1</td>\n",
       "      <td>0</td>\n",
       "      <td>...</td>\n",
       "      <td>0</td>\n",
       "      <td>0</td>\n",
       "      <td>1</td>\n",
       "      <td>1</td>\n",
       "      <td>0</td>\n",
       "      <td>0</td>\n",
       "      <td>0</td>\n",
       "      <td>0</td>\n",
       "      <td>0</td>\n",
       "      <td>1</td>\n",
       "    </tr>\n",
       "    <tr>\n",
       "      <th>1</th>\n",
       "      <td>0</td>\n",
       "      <td>1</td>\n",
       "      <td>0</td>\n",
       "      <td>0</td>\n",
       "      <td>0</td>\n",
       "      <td>1</td>\n",
       "      <td>1</td>\n",
       "      <td>0</td>\n",
       "      <td>0</td>\n",
       "      <td>1</td>\n",
       "      <td>...</td>\n",
       "      <td>0</td>\n",
       "      <td>0</td>\n",
       "      <td>1</td>\n",
       "      <td>1</td>\n",
       "      <td>0</td>\n",
       "      <td>0</td>\n",
       "      <td>0</td>\n",
       "      <td>1</td>\n",
       "      <td>0</td>\n",
       "      <td>0</td>\n",
       "    </tr>\n",
       "    <tr>\n",
       "      <th>2</th>\n",
       "      <td>0</td>\n",
       "      <td>1</td>\n",
       "      <td>0</td>\n",
       "      <td>0</td>\n",
       "      <td>0</td>\n",
       "      <td>1</td>\n",
       "      <td>0</td>\n",
       "      <td>0</td>\n",
       "      <td>1</td>\n",
       "      <td>0</td>\n",
       "      <td>...</td>\n",
       "      <td>0</td>\n",
       "      <td>0</td>\n",
       "      <td>1</td>\n",
       "      <td>1</td>\n",
       "      <td>0</td>\n",
       "      <td>0</td>\n",
       "      <td>1</td>\n",
       "      <td>0</td>\n",
       "      <td>0</td>\n",
       "      <td>0</td>\n",
       "    </tr>\n",
       "    <tr>\n",
       "      <th>3</th>\n",
       "      <td>0</td>\n",
       "      <td>1</td>\n",
       "      <td>0</td>\n",
       "      <td>0</td>\n",
       "      <td>0</td>\n",
       "      <td>1</td>\n",
       "      <td>1</td>\n",
       "      <td>0</td>\n",
       "      <td>0</td>\n",
       "      <td>0</td>\n",
       "      <td>...</td>\n",
       "      <td>0</td>\n",
       "      <td>0</td>\n",
       "      <td>1</td>\n",
       "      <td>1</td>\n",
       "      <td>0</td>\n",
       "      <td>0</td>\n",
       "      <td>0</td>\n",
       "      <td>1</td>\n",
       "      <td>0</td>\n",
       "      <td>0</td>\n",
       "    </tr>\n",
       "    <tr>\n",
       "      <th>4</th>\n",
       "      <td>0</td>\n",
       "      <td>0</td>\n",
       "      <td>1</td>\n",
       "      <td>1</td>\n",
       "      <td>0</td>\n",
       "      <td>0</td>\n",
       "      <td>0</td>\n",
       "      <td>0</td>\n",
       "      <td>1</td>\n",
       "      <td>0</td>\n",
       "      <td>...</td>\n",
       "      <td>0</td>\n",
       "      <td>0</td>\n",
       "      <td>1</td>\n",
       "      <td>1</td>\n",
       "      <td>0</td>\n",
       "      <td>0</td>\n",
       "      <td>1</td>\n",
       "      <td>0</td>\n",
       "      <td>0</td>\n",
       "      <td>0</td>\n",
       "    </tr>\n",
       "  </tbody>\n",
       "</table>\n",
       "<p>5 rows × 31 columns</p>\n",
       "</div>"
      ],
      "text/plain": [
       "   multiple_lines_No  multiple_lines_No phone service  multiple_lines_Yes  \\\n",
       "0                  0                                0                   1   \n",
       "1                  0                                1                   0   \n",
       "2                  0                                1                   0   \n",
       "3                  0                                1                   0   \n",
       "4                  0                                0                   1   \n",
       "\n",
       "   online_security_No  online_security_No internet service  \\\n",
       "0                   0                                    0   \n",
       "1                   0                                    0   \n",
       "2                   0                                    0   \n",
       "3                   0                                    0   \n",
       "4                   1                                    0   \n",
       "\n",
       "   online_security_Yes  online_backup_No  online_backup_No internet service  \\\n",
       "0                    1                 0                                  0   \n",
       "1                    1                 1                                  0   \n",
       "2                    1                 0                                  0   \n",
       "3                    1                 1                                  0   \n",
       "4                    0                 0                                  0   \n",
       "\n",
       "   online_backup_Yes  device_protection_No  ...  contract_type_Month-to-month  \\\n",
       "0                  1                     0  ...                             0   \n",
       "1                  0                     1  ...                             0   \n",
       "2                  1                     0  ...                             0   \n",
       "3                  0                     0  ...                             0   \n",
       "4                  1                     0  ...                             0   \n",
       "\n",
       "   contract_type_One year  contract_type_Two year  internet_service_type_DSL  \\\n",
       "0                       0                       1                          1   \n",
       "1                       0                       1                          1   \n",
       "2                       0                       1                          1   \n",
       "3                       0                       1                          1   \n",
       "4                       0                       1                          1   \n",
       "\n",
       "   internet_service_type_Fiber optic  internet_service_type_None  \\\n",
       "0                                  0                           0   \n",
       "1                                  0                           0   \n",
       "2                                  0                           0   \n",
       "3                                  0                           0   \n",
       "4                                  0                           0   \n",
       "\n",
       "   payment_type_Bank transfer (automatic)  \\\n",
       "0                                       0   \n",
       "1                                       0   \n",
       "2                                       1   \n",
       "3                                       0   \n",
       "4                                       1   \n",
       "\n",
       "   payment_type_Credit card (automatic)  payment_type_Electronic check  \\\n",
       "0                                     0                              0   \n",
       "1                                     1                              0   \n",
       "2                                     0                              0   \n",
       "3                                     1                              0   \n",
       "4                                     0                              0   \n",
       "\n",
       "   payment_type_Mailed check  \n",
       "0                          1  \n",
       "1                          0  \n",
       "2                          0  \n",
       "3                          0  \n",
       "4                          0  \n",
       "\n",
       "[5 rows x 31 columns]"
      ]
     },
     "execution_count": 155,
     "metadata": {},
     "output_type": "execute_result"
    }
   ],
   "source": [
    "drop_cols = ['multiple_lines', 'online_security', 'online_backup', 'device_protection', 'tech_support', 'streaming_tv', 'streaming_movies', 'contract_type', 'internet_service_type', 'payment_type']\n",
    "dummy_df1 = pd.get_dummies(df[drop_cols], dummy_na=False)\n",
    "dummy_df1.head()\n"
   ]
  },
  {
   "cell_type": "code",
   "execution_count": 156,
   "id": "bcd21dab-d111-49d9-9cf6-615921e1dce7",
   "metadata": {},
   "outputs": [
    {
     "data": {
      "text/plain": [
       "Index(['multiple_lines_No', 'multiple_lines_No phone service',\n",
       "       'multiple_lines_Yes', 'online_security_No',\n",
       "       'online_security_No internet service', 'online_security_Yes',\n",
       "       'online_backup_No', 'online_backup_No internet service',\n",
       "       'online_backup_Yes', 'device_protection_No',\n",
       "       'device_protection_No internet service', 'device_protection_Yes',\n",
       "       'tech_support_No', 'tech_support_No internet service',\n",
       "       'tech_support_Yes', 'streaming_tv_No',\n",
       "       'streaming_tv_No internet service', 'streaming_tv_Yes',\n",
       "       'streaming_movies_No', 'streaming_movies_No internet service',\n",
       "       'streaming_movies_Yes', 'contract_type_Month-to-month',\n",
       "       'contract_type_One year', 'contract_type_Two year',\n",
       "       'internet_service_type_DSL', 'internet_service_type_Fiber optic',\n",
       "       'internet_service_type_None', 'payment_type_Bank transfer (automatic)',\n",
       "       'payment_type_Credit card (automatic)', 'payment_type_Electronic check',\n",
       "       'payment_type_Mailed check'],\n",
       "      dtype='object')"
      ]
     },
     "execution_count": 156,
     "metadata": {},
     "output_type": "execute_result"
    }
   ],
   "source": [
    "dummy_df1.columns"
   ]
  },
  {
   "cell_type": "code",
   "execution_count": 158,
   "id": "2b7654ae-4160-42b5-8986-5126cbfc7b67",
   "metadata": {},
   "outputs": [
    {
     "data": {
      "text/html": [
       "<div>\n",
       "<style scoped>\n",
       "    .dataframe tbody tr th:only-of-type {\n",
       "        vertical-align: middle;\n",
       "    }\n",
       "\n",
       "    .dataframe tbody tr th {\n",
       "        vertical-align: top;\n",
       "    }\n",
       "\n",
       "    .dataframe thead th {\n",
       "        text-align: right;\n",
       "    }\n",
       "</style>\n",
       "<table border=\"1\" class=\"dataframe\">\n",
       "  <thead>\n",
       "    <tr style=\"text-align: right;\">\n",
       "      <th></th>\n",
       "      <th>multiple_lines_No phone service</th>\n",
       "      <th>multiple_lines_Yes</th>\n",
       "      <th>online_security_Yes</th>\n",
       "      <th>online_backup_Yes</th>\n",
       "      <th>device_protection_Yes</th>\n",
       "      <th>tech_support_Yes</th>\n",
       "      <th>streaming_tv_Yes</th>\n",
       "      <th>streaming_movies_No internet service</th>\n",
       "      <th>streaming_movies_Yes</th>\n",
       "      <th>contract_type_Month-to-month</th>\n",
       "      <th>contract_type_One year</th>\n",
       "      <th>contract_type_Two year</th>\n",
       "      <th>internet_service_type_DSL</th>\n",
       "      <th>internet_service_type_Fiber optic</th>\n",
       "      <th>internet_service_type_None</th>\n",
       "      <th>payment_type_Bank transfer (automatic)</th>\n",
       "      <th>payment_type_Credit card (automatic)</th>\n",
       "      <th>payment_type_Electronic check</th>\n",
       "      <th>payment_type_Mailed check</th>\n",
       "    </tr>\n",
       "  </thead>\n",
       "  <tbody>\n",
       "    <tr>\n",
       "      <th>0</th>\n",
       "      <td>0</td>\n",
       "      <td>1</td>\n",
       "      <td>1</td>\n",
       "      <td>1</td>\n",
       "      <td>1</td>\n",
       "      <td>1</td>\n",
       "      <td>1</td>\n",
       "      <td>0</td>\n",
       "      <td>1</td>\n",
       "      <td>0</td>\n",
       "      <td>0</td>\n",
       "      <td>1</td>\n",
       "      <td>1</td>\n",
       "      <td>0</td>\n",
       "      <td>0</td>\n",
       "      <td>0</td>\n",
       "      <td>0</td>\n",
       "      <td>0</td>\n",
       "      <td>1</td>\n",
       "    </tr>\n",
       "    <tr>\n",
       "      <th>1</th>\n",
       "      <td>1</td>\n",
       "      <td>0</td>\n",
       "      <td>1</td>\n",
       "      <td>0</td>\n",
       "      <td>0</td>\n",
       "      <td>1</td>\n",
       "      <td>1</td>\n",
       "      <td>0</td>\n",
       "      <td>0</td>\n",
       "      <td>0</td>\n",
       "      <td>0</td>\n",
       "      <td>1</td>\n",
       "      <td>1</td>\n",
       "      <td>0</td>\n",
       "      <td>0</td>\n",
       "      <td>0</td>\n",
       "      <td>1</td>\n",
       "      <td>0</td>\n",
       "      <td>0</td>\n",
       "    </tr>\n",
       "    <tr>\n",
       "      <th>2</th>\n",
       "      <td>1</td>\n",
       "      <td>0</td>\n",
       "      <td>1</td>\n",
       "      <td>1</td>\n",
       "      <td>1</td>\n",
       "      <td>1</td>\n",
       "      <td>0</td>\n",
       "      <td>0</td>\n",
       "      <td>0</td>\n",
       "      <td>0</td>\n",
       "      <td>0</td>\n",
       "      <td>1</td>\n",
       "      <td>1</td>\n",
       "      <td>0</td>\n",
       "      <td>0</td>\n",
       "      <td>1</td>\n",
       "      <td>0</td>\n",
       "      <td>0</td>\n",
       "      <td>0</td>\n",
       "    </tr>\n",
       "    <tr>\n",
       "      <th>3</th>\n",
       "      <td>1</td>\n",
       "      <td>0</td>\n",
       "      <td>1</td>\n",
       "      <td>0</td>\n",
       "      <td>1</td>\n",
       "      <td>1</td>\n",
       "      <td>0</td>\n",
       "      <td>0</td>\n",
       "      <td>0</td>\n",
       "      <td>0</td>\n",
       "      <td>0</td>\n",
       "      <td>1</td>\n",
       "      <td>1</td>\n",
       "      <td>0</td>\n",
       "      <td>0</td>\n",
       "      <td>0</td>\n",
       "      <td>1</td>\n",
       "      <td>0</td>\n",
       "      <td>0</td>\n",
       "    </tr>\n",
       "    <tr>\n",
       "      <th>4</th>\n",
       "      <td>0</td>\n",
       "      <td>1</td>\n",
       "      <td>0</td>\n",
       "      <td>1</td>\n",
       "      <td>1</td>\n",
       "      <td>1</td>\n",
       "      <td>1</td>\n",
       "      <td>0</td>\n",
       "      <td>1</td>\n",
       "      <td>0</td>\n",
       "      <td>0</td>\n",
       "      <td>1</td>\n",
       "      <td>1</td>\n",
       "      <td>0</td>\n",
       "      <td>0</td>\n",
       "      <td>1</td>\n",
       "      <td>0</td>\n",
       "      <td>0</td>\n",
       "      <td>0</td>\n",
       "    </tr>\n",
       "  </tbody>\n",
       "</table>\n",
       "</div>"
      ],
      "text/plain": [
       "   multiple_lines_No phone service  multiple_lines_Yes  online_security_Yes  \\\n",
       "0                                0                   1                    1   \n",
       "1                                1                   0                    1   \n",
       "2                                1                   0                    1   \n",
       "3                                1                   0                    1   \n",
       "4                                0                   1                    0   \n",
       "\n",
       "   online_backup_Yes  device_protection_Yes  tech_support_Yes  \\\n",
       "0                  1                      1                 1   \n",
       "1                  0                      0                 1   \n",
       "2                  1                      1                 1   \n",
       "3                  0                      1                 1   \n",
       "4                  1                      1                 1   \n",
       "\n",
       "   streaming_tv_Yes  streaming_movies_No internet service  \\\n",
       "0                 1                                     0   \n",
       "1                 1                                     0   \n",
       "2                 0                                     0   \n",
       "3                 0                                     0   \n",
       "4                 1                                     0   \n",
       "\n",
       "   streaming_movies_Yes  contract_type_Month-to-month  contract_type_One year  \\\n",
       "0                     1                             0                       0   \n",
       "1                     0                             0                       0   \n",
       "2                     0                             0                       0   \n",
       "3                     0                             0                       0   \n",
       "4                     1                             0                       0   \n",
       "\n",
       "   contract_type_Two year  internet_service_type_DSL  \\\n",
       "0                       1                          1   \n",
       "1                       1                          1   \n",
       "2                       1                          1   \n",
       "3                       1                          1   \n",
       "4                       1                          1   \n",
       "\n",
       "   internet_service_type_Fiber optic  internet_service_type_None  \\\n",
       "0                                  0                           0   \n",
       "1                                  0                           0   \n",
       "2                                  0                           0   \n",
       "3                                  0                           0   \n",
       "4                                  0                           0   \n",
       "\n",
       "   payment_type_Bank transfer (automatic)  \\\n",
       "0                                       0   \n",
       "1                                       0   \n",
       "2                                       1   \n",
       "3                                       0   \n",
       "4                                       1   \n",
       "\n",
       "   payment_type_Credit card (automatic)  payment_type_Electronic check  \\\n",
       "0                                     0                              0   \n",
       "1                                     1                              0   \n",
       "2                                     0                              0   \n",
       "3                                     1                              0   \n",
       "4                                     0                              0   \n",
       "\n",
       "   payment_type_Mailed check  \n",
       "0                          1  \n",
       "1                          0  \n",
       "2                          0  \n",
       "3                          0  \n",
       "4                          0  "
      ]
     },
     "execution_count": 158,
     "metadata": {},
     "output_type": "execute_result"
    }
   ],
   "source": [
    "#Clean this df: remove the no columns\n",
    "#the No Internet Service column is redundant, so I'm going to drop all but one, before I concat back onto the df\n",
    "redundant_cols = ['multiple_lines_No','online_security_No','online_security_No internet service','online_backup_No', 'online_backup_No internet service','device_protection_No',\n",
    "'device_protection_No internet service','tech_support_No', 'tech_support_No internet service','streaming_tv_No','streaming_tv_No internet service','streaming_movies_No']    \n",
    "\n",
    "dummy_df1 = dummy_df1.drop(columns=redundant_cols)\n",
    "dummy_df1.head()"
   ]
  },
  {
   "cell_type": "code",
   "execution_count": 160,
   "id": "121793f8-d87d-4980-a28f-7e754f072133",
   "metadata": {},
   "outputs": [
    {
     "data": {
      "text/html": [
       "<div>\n",
       "<style scoped>\n",
       "    .dataframe tbody tr th:only-of-type {\n",
       "        vertical-align: middle;\n",
       "    }\n",
       "\n",
       "    .dataframe tbody tr th {\n",
       "        vertical-align: top;\n",
       "    }\n",
       "\n",
       "    .dataframe thead th {\n",
       "        text-align: right;\n",
       "    }\n",
       "</style>\n",
       "<table border=\"1\" class=\"dataframe\">\n",
       "  <thead>\n",
       "    <tr style=\"text-align: right;\">\n",
       "      <th></th>\n",
       "      <th>gender</th>\n",
       "      <th>senior_citizen</th>\n",
       "      <th>partner</th>\n",
       "      <th>dependents</th>\n",
       "      <th>tenure</th>\n",
       "      <th>multiple_lines</th>\n",
       "      <th>online_security</th>\n",
       "      <th>online_backup</th>\n",
       "      <th>device_protection</th>\n",
       "      <th>tech_support</th>\n",
       "      <th>...</th>\n",
       "      <th>contract_type_Month-to-month</th>\n",
       "      <th>contract_type_One year</th>\n",
       "      <th>contract_type_Two year</th>\n",
       "      <th>internet_service_type_DSL</th>\n",
       "      <th>internet_service_type_Fiber optic</th>\n",
       "      <th>internet_service_type_None</th>\n",
       "      <th>payment_type_Bank transfer (automatic)</th>\n",
       "      <th>payment_type_Credit card (automatic)</th>\n",
       "      <th>payment_type_Electronic check</th>\n",
       "      <th>payment_type_Mailed check</th>\n",
       "    </tr>\n",
       "  </thead>\n",
       "  <tbody>\n",
       "    <tr>\n",
       "      <th>0</th>\n",
       "      <td>Female</td>\n",
       "      <td>0</td>\n",
       "      <td>Yes</td>\n",
       "      <td>Yes</td>\n",
       "      <td>65</td>\n",
       "      <td>Yes</td>\n",
       "      <td>Yes</td>\n",
       "      <td>Yes</td>\n",
       "      <td>Yes</td>\n",
       "      <td>Yes</td>\n",
       "      <td>...</td>\n",
       "      <td>0</td>\n",
       "      <td>0</td>\n",
       "      <td>1</td>\n",
       "      <td>1</td>\n",
       "      <td>0</td>\n",
       "      <td>0</td>\n",
       "      <td>0</td>\n",
       "      <td>0</td>\n",
       "      <td>0</td>\n",
       "      <td>1</td>\n",
       "    </tr>\n",
       "    <tr>\n",
       "      <th>1</th>\n",
       "      <td>Male</td>\n",
       "      <td>0</td>\n",
       "      <td>No</td>\n",
       "      <td>No</td>\n",
       "      <td>54</td>\n",
       "      <td>No phone service</td>\n",
       "      <td>Yes</td>\n",
       "      <td>No</td>\n",
       "      <td>No</td>\n",
       "      <td>Yes</td>\n",
       "      <td>...</td>\n",
       "      <td>0</td>\n",
       "      <td>0</td>\n",
       "      <td>1</td>\n",
       "      <td>1</td>\n",
       "      <td>0</td>\n",
       "      <td>0</td>\n",
       "      <td>0</td>\n",
       "      <td>1</td>\n",
       "      <td>0</td>\n",
       "      <td>0</td>\n",
       "    </tr>\n",
       "    <tr>\n",
       "      <th>2</th>\n",
       "      <td>Female</td>\n",
       "      <td>0</td>\n",
       "      <td>No</td>\n",
       "      <td>No</td>\n",
       "      <td>56</td>\n",
       "      <td>No phone service</td>\n",
       "      <td>Yes</td>\n",
       "      <td>Yes</td>\n",
       "      <td>Yes</td>\n",
       "      <td>Yes</td>\n",
       "      <td>...</td>\n",
       "      <td>0</td>\n",
       "      <td>0</td>\n",
       "      <td>1</td>\n",
       "      <td>1</td>\n",
       "      <td>0</td>\n",
       "      <td>0</td>\n",
       "      <td>1</td>\n",
       "      <td>0</td>\n",
       "      <td>0</td>\n",
       "      <td>0</td>\n",
       "    </tr>\n",
       "    <tr>\n",
       "      <th>3</th>\n",
       "      <td>Male</td>\n",
       "      <td>0</td>\n",
       "      <td>Yes</td>\n",
       "      <td>Yes</td>\n",
       "      <td>20</td>\n",
       "      <td>No phone service</td>\n",
       "      <td>Yes</td>\n",
       "      <td>No</td>\n",
       "      <td>Yes</td>\n",
       "      <td>Yes</td>\n",
       "      <td>...</td>\n",
       "      <td>0</td>\n",
       "      <td>0</td>\n",
       "      <td>1</td>\n",
       "      <td>1</td>\n",
       "      <td>0</td>\n",
       "      <td>0</td>\n",
       "      <td>0</td>\n",
       "      <td>1</td>\n",
       "      <td>0</td>\n",
       "      <td>0</td>\n",
       "    </tr>\n",
       "    <tr>\n",
       "      <th>4</th>\n",
       "      <td>Male</td>\n",
       "      <td>0</td>\n",
       "      <td>Yes</td>\n",
       "      <td>No</td>\n",
       "      <td>72</td>\n",
       "      <td>Yes</td>\n",
       "      <td>No</td>\n",
       "      <td>Yes</td>\n",
       "      <td>Yes</td>\n",
       "      <td>Yes</td>\n",
       "      <td>...</td>\n",
       "      <td>0</td>\n",
       "      <td>0</td>\n",
       "      <td>1</td>\n",
       "      <td>1</td>\n",
       "      <td>0</td>\n",
       "      <td>0</td>\n",
       "      <td>1</td>\n",
       "      <td>0</td>\n",
       "      <td>0</td>\n",
       "      <td>0</td>\n",
       "    </tr>\n",
       "  </tbody>\n",
       "</table>\n",
       "<p>5 rows × 43 columns</p>\n",
       "</div>"
      ],
      "text/plain": [
       "   gender  senior_citizen partner dependents  tenure    multiple_lines  \\\n",
       "0  Female               0     Yes        Yes      65               Yes   \n",
       "1    Male               0      No         No      54  No phone service   \n",
       "2  Female               0      No         No      56  No phone service   \n",
       "3    Male               0     Yes        Yes      20  No phone service   \n",
       "4    Male               0     Yes         No      72               Yes   \n",
       "\n",
       "  online_security online_backup device_protection tech_support  ...  \\\n",
       "0             Yes           Yes               Yes          Yes  ...   \n",
       "1             Yes            No                No          Yes  ...   \n",
       "2             Yes           Yes               Yes          Yes  ...   \n",
       "3             Yes            No               Yes          Yes  ...   \n",
       "4              No           Yes               Yes          Yes  ...   \n",
       "\n",
       "  contract_type_Month-to-month contract_type_One year contract_type_Two year  \\\n",
       "0                            0                      0                      1   \n",
       "1                            0                      0                      1   \n",
       "2                            0                      0                      1   \n",
       "3                            0                      0                      1   \n",
       "4                            0                      0                      1   \n",
       "\n",
       "   internet_service_type_DSL  internet_service_type_Fiber optic  \\\n",
       "0                          1                                  0   \n",
       "1                          1                                  0   \n",
       "2                          1                                  0   \n",
       "3                          1                                  0   \n",
       "4                          1                                  0   \n",
       "\n",
       "  internet_service_type_None payment_type_Bank transfer (automatic)  \\\n",
       "0                          0                                      0   \n",
       "1                          0                                      0   \n",
       "2                          0                                      1   \n",
       "3                          0                                      0   \n",
       "4                          0                                      1   \n",
       "\n",
       "  payment_type_Credit card (automatic) payment_type_Electronic check  \\\n",
       "0                                    0                             0   \n",
       "1                                    1                             0   \n",
       "2                                    0                             0   \n",
       "3                                    1                             0   \n",
       "4                                    0                             0   \n",
       "\n",
       "   payment_type_Mailed check  \n",
       "0                          1  \n",
       "1                          0  \n",
       "2                          0  \n",
       "3                          0  \n",
       "4                          0  \n",
       "\n",
       "[5 rows x 43 columns]"
      ]
     },
     "execution_count": 160,
     "metadata": {},
     "output_type": "execute_result"
    }
   ],
   "source": [
    "#now I have the columns I want to add back to my original df\n",
    "df = pd.concat([df, dummy_df, dummy_df1], axis=1)\n",
    "df.head()"
   ]
  },
  {
   "cell_type": "code",
   "execution_count": 163,
   "id": "06a0dd6d-6705-4ec9-a6f9-d4a9f826db45",
   "metadata": {},
   "outputs": [
    {
     "data": {
      "text/html": [
       "<div>\n",
       "<style scoped>\n",
       "    .dataframe tbody tr th:only-of-type {\n",
       "        vertical-align: middle;\n",
       "    }\n",
       "\n",
       "    .dataframe tbody tr th {\n",
       "        vertical-align: top;\n",
       "    }\n",
       "\n",
       "    .dataframe thead th {\n",
       "        text-align: right;\n",
       "    }\n",
       "</style>\n",
       "<table border=\"1\" class=\"dataframe\">\n",
       "  <thead>\n",
       "    <tr style=\"text-align: right;\">\n",
       "      <th></th>\n",
       "      <th>senior_citizen</th>\n",
       "      <th>tenure</th>\n",
       "      <th>monthly_charges</th>\n",
       "      <th>total_charges</th>\n",
       "      <th>gender_Male</th>\n",
       "      <th>partner_Yes</th>\n",
       "      <th>dependents_Yes</th>\n",
       "      <th>paperless_billing_Yes</th>\n",
       "      <th>churn_Yes</th>\n",
       "      <th>multiple_lines_No phone service</th>\n",
       "      <th>...</th>\n",
       "      <th>contract_type_Month-to-month</th>\n",
       "      <th>contract_type_One year</th>\n",
       "      <th>contract_type_Two year</th>\n",
       "      <th>internet_service_type_DSL</th>\n",
       "      <th>internet_service_type_Fiber optic</th>\n",
       "      <th>internet_service_type_None</th>\n",
       "      <th>payment_type_Bank transfer (automatic)</th>\n",
       "      <th>payment_type_Credit card (automatic)</th>\n",
       "      <th>payment_type_Electronic check</th>\n",
       "      <th>payment_type_Mailed check</th>\n",
       "    </tr>\n",
       "  </thead>\n",
       "  <tbody>\n",
       "    <tr>\n",
       "      <th>0</th>\n",
       "      <td>0</td>\n",
       "      <td>65</td>\n",
       "      <td>90.45</td>\n",
       "      <td>5957.90</td>\n",
       "      <td>0</td>\n",
       "      <td>1</td>\n",
       "      <td>1</td>\n",
       "      <td>1</td>\n",
       "      <td>0</td>\n",
       "      <td>0</td>\n",
       "      <td>...</td>\n",
       "      <td>0</td>\n",
       "      <td>0</td>\n",
       "      <td>1</td>\n",
       "      <td>1</td>\n",
       "      <td>0</td>\n",
       "      <td>0</td>\n",
       "      <td>0</td>\n",
       "      <td>0</td>\n",
       "      <td>0</td>\n",
       "      <td>1</td>\n",
       "    </tr>\n",
       "    <tr>\n",
       "      <th>1</th>\n",
       "      <td>0</td>\n",
       "      <td>54</td>\n",
       "      <td>45.20</td>\n",
       "      <td>2460.55</td>\n",
       "      <td>1</td>\n",
       "      <td>0</td>\n",
       "      <td>0</td>\n",
       "      <td>0</td>\n",
       "      <td>0</td>\n",
       "      <td>1</td>\n",
       "      <td>...</td>\n",
       "      <td>0</td>\n",
       "      <td>0</td>\n",
       "      <td>1</td>\n",
       "      <td>1</td>\n",
       "      <td>0</td>\n",
       "      <td>0</td>\n",
       "      <td>0</td>\n",
       "      <td>1</td>\n",
       "      <td>0</td>\n",
       "      <td>0</td>\n",
       "    </tr>\n",
       "    <tr>\n",
       "      <th>2</th>\n",
       "      <td>0</td>\n",
       "      <td>56</td>\n",
       "      <td>45.05</td>\n",
       "      <td>2560.10</td>\n",
       "      <td>0</td>\n",
       "      <td>0</td>\n",
       "      <td>0</td>\n",
       "      <td>0</td>\n",
       "      <td>0</td>\n",
       "      <td>1</td>\n",
       "      <td>...</td>\n",
       "      <td>0</td>\n",
       "      <td>0</td>\n",
       "      <td>1</td>\n",
       "      <td>1</td>\n",
       "      <td>0</td>\n",
       "      <td>0</td>\n",
       "      <td>1</td>\n",
       "      <td>0</td>\n",
       "      <td>0</td>\n",
       "      <td>0</td>\n",
       "    </tr>\n",
       "    <tr>\n",
       "      <th>3</th>\n",
       "      <td>0</td>\n",
       "      <td>20</td>\n",
       "      <td>39.40</td>\n",
       "      <td>825.40</td>\n",
       "      <td>1</td>\n",
       "      <td>1</td>\n",
       "      <td>1</td>\n",
       "      <td>1</td>\n",
       "      <td>0</td>\n",
       "      <td>1</td>\n",
       "      <td>...</td>\n",
       "      <td>0</td>\n",
       "      <td>0</td>\n",
       "      <td>1</td>\n",
       "      <td>1</td>\n",
       "      <td>0</td>\n",
       "      <td>0</td>\n",
       "      <td>0</td>\n",
       "      <td>1</td>\n",
       "      <td>0</td>\n",
       "      <td>0</td>\n",
       "    </tr>\n",
       "    <tr>\n",
       "      <th>4</th>\n",
       "      <td>0</td>\n",
       "      <td>72</td>\n",
       "      <td>85.15</td>\n",
       "      <td>6316.20</td>\n",
       "      <td>1</td>\n",
       "      <td>1</td>\n",
       "      <td>0</td>\n",
       "      <td>1</td>\n",
       "      <td>0</td>\n",
       "      <td>0</td>\n",
       "      <td>...</td>\n",
       "      <td>0</td>\n",
       "      <td>0</td>\n",
       "      <td>1</td>\n",
       "      <td>1</td>\n",
       "      <td>0</td>\n",
       "      <td>0</td>\n",
       "      <td>1</td>\n",
       "      <td>0</td>\n",
       "      <td>0</td>\n",
       "      <td>0</td>\n",
       "    </tr>\n",
       "  </tbody>\n",
       "</table>\n",
       "<p>5 rows × 28 columns</p>\n",
       "</div>"
      ],
      "text/plain": [
       "   senior_citizen  tenure  monthly_charges  total_charges  gender_Male  \\\n",
       "0               0      65            90.45        5957.90            0   \n",
       "1               0      54            45.20        2460.55            1   \n",
       "2               0      56            45.05        2560.10            0   \n",
       "3               0      20            39.40         825.40            1   \n",
       "4               0      72            85.15        6316.20            1   \n",
       "\n",
       "   partner_Yes  dependents_Yes  paperless_billing_Yes  churn_Yes  \\\n",
       "0            1               1                      1          0   \n",
       "1            0               0                      0          0   \n",
       "2            0               0                      0          0   \n",
       "3            1               1                      1          0   \n",
       "4            1               0                      1          0   \n",
       "\n",
       "   multiple_lines_No phone service  ...  contract_type_Month-to-month  \\\n",
       "0                                0  ...                             0   \n",
       "1                                1  ...                             0   \n",
       "2                                1  ...                             0   \n",
       "3                                1  ...                             0   \n",
       "4                                0  ...                             0   \n",
       "\n",
       "   contract_type_One year  contract_type_Two year  internet_service_type_DSL  \\\n",
       "0                       0                       1                          1   \n",
       "1                       0                       1                          1   \n",
       "2                       0                       1                          1   \n",
       "3                       0                       1                          1   \n",
       "4                       0                       1                          1   \n",
       "\n",
       "   internet_service_type_Fiber optic  internet_service_type_None  \\\n",
       "0                                  0                           0   \n",
       "1                                  0                           0   \n",
       "2                                  0                           0   \n",
       "3                                  0                           0   \n",
       "4                                  0                           0   \n",
       "\n",
       "   payment_type_Bank transfer (automatic)  \\\n",
       "0                                       0   \n",
       "1                                       0   \n",
       "2                                       1   \n",
       "3                                       0   \n",
       "4                                       1   \n",
       "\n",
       "   payment_type_Credit card (automatic)  payment_type_Electronic check  \\\n",
       "0                                     0                              0   \n",
       "1                                     1                              0   \n",
       "2                                     0                              0   \n",
       "3                                     1                              0   \n",
       "4                                     0                              0   \n",
       "\n",
       "   payment_type_Mailed check  \n",
       "0                          1  \n",
       "1                          0  \n",
       "2                          0  \n",
       "3                          0  \n",
       "4                          0  \n",
       "\n",
       "[5 rows x 28 columns]"
      ]
     },
     "execution_count": 163,
     "metadata": {},
     "output_type": "execute_result"
    }
   ],
   "source": [
    "#Now I will drop the columns I created dummy columns for drop_yn_cols and drop_cols\n",
    "\n",
    "df = df.drop(columns = drop_yn_cols)\n",
    "df = df.drop(columns = drop_cols)\n",
    "df.head()"
   ]
  },
  {
   "cell_type": "code",
   "execution_count": 165,
   "id": "6d835db6-27e7-4279-8546-9b4e51d82d77",
   "metadata": {},
   "outputs": [
    {
     "data": {
      "text/plain": [
       "Index(['senior_citizen', 'tenure', 'monthly_charges', 'total_charges',\n",
       "       'gender_Male', 'partner_Yes', 'dependents_Yes', 'paperless_billing_Yes',\n",
       "       'churn_Yes', 'multiple_lines_No phone service', 'multiple_lines_Yes',\n",
       "       'online_security_Yes', 'online_backup_Yes', 'device_protection_Yes',\n",
       "       'tech_support_Yes', 'streaming_tv_Yes',\n",
       "       'streaming_movies_No internet service', 'streaming_movies_Yes',\n",
       "       'contract_type_Month-to-month', 'contract_type_One year',\n",
       "       'contract_type_Two year', 'internet_service_type_DSL',\n",
       "       'internet_service_type_Fiber optic', 'internet_service_type_None',\n",
       "       'payment_type_Bank transfer (automatic)',\n",
       "       'payment_type_Credit card (automatic)', 'payment_type_Electronic check',\n",
       "       'payment_type_Mailed check'],\n",
       "      dtype='object')"
      ]
     },
     "execution_count": 165,
     "metadata": {},
     "output_type": "execute_result"
    }
   ],
   "source": [
    "df.columns"
   ]
  },
  {
   "cell_type": "code",
   "execution_count": 170,
   "id": "2a20712a-21c4-4f4d-9fcf-78a260f0ae7b",
   "metadata": {},
   "outputs": [],
   "source": [
    "#now all my columns contain values I can work with, but I do want to rename some for clarity and to remove unnecessary spaces\n",
    "df = df.rename(columns = {'senior_citizen' : 'is_senior',\n",
    "'gender_Male': 'is_male', \n",
    "'partner_Yes': 'has_partner',\n",
    "'dependents_Yes': 'has_dependents',\n",
    "'paperless_billing_Yes': 'paperless_bill',\n",
    "'multiple_lines_No phone service': 'no_phone_service',\n",
    "'multiple_lines_Yes': 'has_multiple_lines',\n",
    "'online_security_Yes': 'has_online_security',\n",
    "'online_backup_Yes': 'has_online_backup', \n",
    "'device_protection_Yes': 'has_device_protection',\n",
    "'tech_support_Yes': 'has_tech_support',\n",
    "'streaming_tv_Yes': 'streams_tv',\n",
    "'streaming_movies_No internet service': 'no_internet_service',\n",
    "'streaming_movies_Yes': 'streams_movies',\n",
    "'contract_type_Month-to-month': 'mtm_contract',\n",
    "'contract_type_One year': 'one_year_contract',\n",
    "'contract_type_Two year': 'two_year_contract',\n",
    "'internet_service_type_DSL': 'DSL',\n",
    "'internet_service_type_Fiber optic' : 'fiber_optic', \n",
    "'internet_service_type_None': 'no_internet',\n",
    "'payment_type_Bank transfer (automatic)': 'auto_bank_transfer',\n",
    "'payment_type_Credit card (automatic)': 'auto_credit_card',\n",
    "'payment_type_Electronic check':'auto_e_check',\n",
    "'payment_type_Mailed check': 'mailed_check_payment'})\n"
   ]
  },
  {
   "cell_type": "code",
   "execution_count": 167,
   "id": "ccbbe651-50bb-44f9-8ee9-3f8e41903907",
   "metadata": {},
   "outputs": [],
   "source": [
    "#I may want to go in and change a few things after I run some modeling. (Ie: creating one column to represent all or some of the online security, streaming, tech support features )\n"
   ]
  },
  {
   "cell_type": "code",
   "execution_count": 171,
   "id": "50e7ea9e-03e5-44d0-a340-f6a9ee89929a",
   "metadata": {},
   "outputs": [
    {
     "data": {
      "image/png": "[encoded data removed]",
      "text/plain": [
       "<Figure size 432x288 with 1 Axes>"
      ]
     },
     "metadata": {
      "needs_background": "light"
     },
     "output_type": "display_data"
    },
    {
     "data": {
      "image/png": "[encoded data removed]",
      "text/plain": [
       "<Figure size 432x288 with 1 Axes>"
      ]
     },
     "metadata": {
      "needs_background": "light"
     },
     "output_type": "display_data"
    },
    {
     "data": {
      "image/png": "[encoded data removed]",
      "text/plain": [
       "<Figure size 432x288 with 1 Axes>"
      ]
     },
     "metadata": {
      "needs_background": "light"
     },
     "output_type": "display_data"
    },
    {
     "data": {
      "image/png": "[encoded data removed]",
      "text/plain": [
       "<Figure size 432x288 with 1 Axes>"
      ]
     },
     "metadata": {
      "needs_background": "light"
     },
     "output_type": "display_data"
    },
    {
     "data": {
      "image/png": "[encoded data removed]",
      "text/plain": [
       "<Figure size 432x288 with 1 Axes>"
      ]
     },
     "metadata": {
      "needs_background": "light"
     },
     "output_type": "display_data"
    },
    {
     "data": {
      "image/png": "[encoded data removed]",
      "text/plain": [
       "<Figure size 432x288 with 1 Axes>"
      ]
     },
     "metadata": {
      "needs_background": "light"
     },
     "output_type": "display_data"
    },
    {
     "data": {
      "image/png": "[encoded data removed]",
      "text/plain": [
       "<Figure size 432x288 with 1 Axes>"
      ]
     },
     "metadata": {
      "needs_background": "light"
     },
     "output_type": "display_data"
    },
    {
     "data": {
      "image/png": "[encoded data removed]",
      "text/plain": [
       "<Figure size 432x288 with 1 Axes>"
      ]
     },
     "metadata": {
      "needs_background": "light"
     },
     "output_type": "display_data"
    },
    {
     "data": {
      "image/png": "[encoded data removed]",
      "text/plain": [
       "<Figure size 432x288 with 1 Axes>"
      ]
     },
     "metadata": {
      "needs_background": "light"
     },
     "output_type": "display_data"
    },
    {
     "data": {
      "image/png": "[encoded data removed]",
      "text/plain": [
       "<Figure size 432x288 with 1 Axes>"
      ]
     },
     "metadata": {
      "needs_background": "light"
     },
     "output_type": "display_data"
    },
    {
     "data": {
      "image/png": "[encoded data removed]",
      "text/plain": [
       "<Figure size 432x288 with 1 Axes>"
      ]
     },
     "metadata": {
      "needs_background": "light"
     },
     "output_type": "display_data"
    },
    {
     "data": {
      "image/png": "[encoded data removed]",
      "text/plain": [
       "<Figure size 432x288 with 1 Axes>"
      ]
     },
     "metadata": {
      "needs_background": "light"
     },
     "output_type": "display_data"
    },
    {
     "data": {
      "image/png": "[encoded data removed]",
      "text/plain": [
       "<Figure size 432x288 with 1 Axes>"
      ]
     },
     "metadata": {
      "needs_background": "light"
     },
     "output_type": "display_data"
    },
    {
     "data": {
      "image/png": "[encoded data removed]",
      "text/plain": [
       "<Figure size 432x288 with 1 Axes>"
      ]
     },
     "metadata": {
      "needs_background": "light"
     },
     "output_type": "display_data"
    },
    {
     "data": {
      "image/png": "[encoded data removed]",
      "text/plain": [
       "<Figure size 432x288 with 1 Axes>"
      ]
     },
     "metadata": {
      "needs_background": "light"
     },
     "output_type": "display_data"
    },
    {
     "data": {
      "image/png": "[encoded data removed]",
      "text/plain": [
       "<Figure size 432x288 with 1 Axes>"
      ]
     },
     "metadata": {
      "needs_background": "light"
     },
     "output_type": "display_data"
    },
    {
     "data": {
      "image/png": "[encoded data removed]",
      "text/plain": [
       "<Figure size 432x288 with 1 Axes>"
      ]
     },
     "metadata": {
      "needs_background": "light"
     },
     "output_type": "display_data"
    },
    {
     "data": {
      "image/png": "[encoded data removed]",
      "text/plain": [
       "<Figure size 432x288 with 1 Axes>"
      ]
     },
     "metadata": {
      "needs_background": "light"
     },
     "output_type": "display_data"
    },
    {
     "data": {
      "image/png": "[encoded data removed]",
      "text/plain": [
       "<Figure size 432x288 with 1 Axes>"
      ]
     },
     "metadata": {
      "needs_background": "light"
     },
     "output_type": "display_data"
    },
    {
     "data": {
      "image/png": "[encoded data removed]",
      "text/plain": [
       "<Figure size 432x288 with 1 Axes>"
      ]
     },
     "metadata": {
      "needs_background": "light"
     },
     "output_type": "display_data"
    },
    {
     "data": {
      "image/png": "[encoded data removed]",
      "text/plain": [
       "<Figure size 432x288 with 1 Axes>"
      ]
     },
     "metadata": {
      "needs_background": "light"
     },
     "output_type": "display_data"
    },
    {
     "data": {
      "image/png": "[encoded data removed]",
      "text/plain": [
       "<Figure size 432x288 with 1 Axes>"
      ]
     },
     "metadata": {
      "needs_background": "light"
     },
     "output_type": "display_data"
    },
    {
     "data": {
      "image/png": "[encoded data removed]",
      "text/plain": [
       "<Figure size 432x288 with 1 Axes>"
      ]
     },
     "metadata": {
      "needs_background": "light"
     },
     "output_type": "display_data"
    },
    {
     "data": {
      "image/png": "[encoded data removed]",
      "text/plain": [
       "<Figure size 432x288 with 1 Axes>"
      ]
     },
     "metadata": {
      "needs_background": "light"
     },
     "output_type": "display_data"
    },
    {
     "data": {
      "image/png": "[encoded data removed]",
      "text/plain": [
       "<Figure size 432x288 with 1 Axes>"
      ]
     },
     "metadata": {
      "needs_background": "light"
     },
     "output_type": "display_data"
    },
    {
     "data": {
      "image/png": "[encoded data removed]",
      "text/plain": [
       "<Figure size 432x288 with 1 Axes>"
      ]
     },
     "metadata": {
      "needs_background": "light"
     },
     "output_type": "display_data"
    },
    {
     "data": {
      "image/png": "[encoded data removed]",
      "text/plain": [
       "<Figure size 432x288 with 1 Axes>"
      ]
     },
     "metadata": {
      "needs_background": "light"
     },
     "output_type": "display_data"
    },
    {
     "data": {
      "image/png": "[encoded data removed]",
      "text/plain": [
       "<Figure size 432x288 with 1 Axes>"
      ]
     },
     "metadata": {
      "needs_background": "light"
     },
     "output_type": "display_data"
    }
   ],
   "source": [
    "def num_distributions(df):\n",
    "    '''\n",
    "    This functions takes in a dataframe and displays\n",
    "    the distribution of each numeric column.\n",
    "    '''\n",
    "    for col in df.columns:\n",
    "        if df[col].dtype != 'object':\n",
    "            plt.hist(df[col])\n",
    "            plt.title(f'Distribution of {col}')\n",
    "            plt.show()\n",
    "  \n",
    "num_distributions(df)"
   ]
  },
  {
   "cell_type": "code",
   "execution_count": null,
   "id": "e67f962f-4261-402a-96b2-708e48b01b52",
   "metadata": {},
   "outputs": [],
   "source": [
    "#creating a prepare.py script from the above steps\n",
    "\n",
    "\n",
    "\n"
   ]
  }
 ],
 "metadata": {
  "kernelspec": {
   "display_name": "Python 3",
   "language": "python",
   "name": "python3"
  },
  "language_info": {
   "codemirror_mode": {
    "name": "ipython",
    "version": 3
   },
   "file_extension": ".py",
   "mimetype": "text/x-python",
   "name": "python",
   "nbconvert_exporter": "python",
   "pygments_lexer": "ipython3",
   "version": "3.8.8"
  }
 },
 "nbformat": 4,
 "nbformat_minor": 5
}
